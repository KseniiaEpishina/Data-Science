{
 "cells": [
  {
   "cell_type": "code",
   "execution_count": null,
   "metadata": {},
   "outputs": [],
   "source": [
    "<a href=\"https://cognitiveclass.ai\"><img src = \"https://ibm.box.com/shared/static/9gegpsmnsoo25ikkbl4qzlvlyjbgxs5x.png\" width = 400> </a>\n",
    "\n",
    "<h1 align=center><font size = 5>Segmenting and Clustering Neighborhoods in New York City</font></h1>"
   ]
  },
  {
   "cell_type": "markdown",
   "metadata": {},
   "source": [
    "## Introduction\n",
    "\n",
    "In this lab, you will learn how to convert addresses into their equivalent latitude and longitude values. Also, you will use the Foursquare API to explore neighborhoods in New York City. You will use the **explore** function to get the most common venue categories in each neighborhood, and then use this feature to group the neighborhoods into clusters. You will use the *k*-means clustering algorithm to complete this task. Finally, you will use the Folium library to visualize the neighborhoods in New York City and their emerging clusters."
   ]
  },
  {
   "cell_type": "markdown",
   "metadata": {},
   "source": [
    "## Table of Contents\n",
    "\n",
    "<div class=\"alert alert-block alert-info\" style=\"margin-top: 20px\">\n",
    "\n",
    "<font size = 3>\n",
    "\n",
    "1. <a href=\"#item1\">Download and Explore Dataset</a>\n",
    "\n",
    "2. <a href=\"#item2\">Explore Neighborhoods in New York City</a>\n",
    "\n",
    "3. <a href=\"#item3\">Analyze Each Neighborhood</a>\n",
    "\n",
    "4. <a href=\"#item4\">Cluster Neighborhoods</a>\n",
    "\n",
    "5. <a href=\"#item5\">Examine Clusters</a>    \n",
    "</font>\n",
    "</div>"
   ]
  },
  {
   "cell_type": "markdown",
   "metadata": {},
   "source": [
    "Before we get the data and start exploring it, let's download all the dependencies that we will need."
   ]
  },
  {
   "cell_type": "code",
   "execution_count": 2,
   "metadata": {
    "collapsed": false
   },
   "outputs": [
    {
     "name": "stdout",
     "output_type": "stream",
     "text": [
      "Solving environment: done\n",
      "\n",
      "## Package Plan ##\n",
      "\n",
      "  environment location: /home/jupyterlab/conda\n",
      "\n",
      "  added / updated specs: \n",
      "    - geopy\n",
      "\n",
      "\n",
      "The following packages will be downloaded:\n",
      "\n",
      "    package                    |            build\n",
      "    ---------------------------|-----------------\n",
      "    geopy-1.17.0               |             py_0          49 KB  conda-forge\n",
      "    geographiclib-1.49         |             py_0          32 KB  conda-forge\n",
      "    ------------------------------------------------------------\n",
      "                                           Total:          82 KB\n",
      "\n",
      "The following NEW packages will be INSTALLED:\n",
      "\n",
      "    geographiclib: 1.49-py_0   conda-forge\n",
      "    geopy:         1.17.0-py_0 conda-forge\n",
      "\n",
      "\n",
      "Downloading and Extracting Packages\n",
      "geopy-1.17.0         | 49 KB     | ##################################### | 100% \n",
      "geographiclib-1.49   | 32 KB     | ##################################### | 100% \n",
      "Preparing transaction: done\n",
      "Verifying transaction: done\n",
      "Executing transaction: done\n",
      "Solving environment: done\n",
      "\n",
      "# All requested packages already installed.\n",
      "\n",
      "Libraries imported.\n"
     ]
    }
   ],
   "source": [
    "import numpy as np # library to handle data in a vectorized manner\n",
    "\n",
    "import pandas as pd # library for data analsysis\n",
    "pd.set_option('display.max_columns', None)\n",
    "pd.set_option('display.max_rows', None)\n",
    "\n",
    "import json # library to handle JSON files\n",
    "\n",
    "!conda install -c conda-forge geopy --yes # uncomment this line if you haven't completed the Foursquare API lab\n",
    "from geopy.geocoders import Nominatim # convert an address into latitude and longitude values\n",
    "\n",
    "import requests # library to handle requests\n",
    "from pandas.io.json import json_normalize # tranform JSON file into a pandas dataframe\n",
    "\n",
    "# Matplotlib and associated plotting modules\n",
    "import matplotlib.cm as cm\n",
    "import matplotlib.colors as colors\n",
    "\n",
    "# import k-means from clustering stage\n",
    "from sklearn.cluster import KMeans\n",
    "\n",
    "!conda install -c conda-forge folium=0.5.0 --yes # uncomment this line if you haven't completed the Foursquare API lab\n",
    "import folium # map rendering library\n",
    "\n",
    "print('Libraries imported.')"
   ]
  },
  {
   "cell_type": "markdown",
   "metadata": {},
   "source": [
    "<a id='item1'></a>"
   ]
  },
  {
   "cell_type": "markdown",
   "metadata": {},
   "source": [
    "## 1. Download and Explore Dataset"
   ]
  },
  {
   "cell_type": "markdown",
   "metadata": {},
   "source": [
    "Neighborhood has a total of 5 boroughs and 306 neighborhoods. In order to segement the neighborhoods and explore them, we will essentially need a dataset that contains the 5 boroughs and the neighborhoods that exist in each borough as well as the the latitude and logitude coordinates of each neighborhood. \n",
    "\n",
    "Luckily, this dataset exists for free on the web. Feel free to try to find this dataset on your own, but here is the link to the dataset: https://geo.nyu.edu/catalog/nyu_2451_34572"
   ]
  },
  {
   "cell_type": "markdown",
   "metadata": {},
   "source": [
    "For your convenience, I downloaded the files and placed it on the server, so you can simply run a `wget` command and access the data. So let's go ahead and do that."
   ]
  },
  {
   "cell_type": "code",
   "execution_count": 3,
   "metadata": {
    "collapsed": false,
    "scrolled": true
   },
   "outputs": [
    {
     "name": "stdout",
     "output_type": "stream",
     "text": [
      "Data downloaded!\n"
     ]
    }
   ],
   "source": [
    "!wget -q -O 'newyork_data.json' https://ibm.box.com/shared/static/fbpwbovar7lf8p5sgddm06cgipa2rxpe.json\n",
    "print('Data downloaded!')"
   ]
  },
  {
   "cell_type": "markdown",
   "metadata": {},
   "source": [
    "#### Load and explore the data"
   ]
  },
  {
   "cell_type": "markdown",
   "metadata": {},
   "source": [
    "Next, let's load the data."
   ]
  },
  {
   "cell_type": "code",
   "execution_count": 4,
   "metadata": {
    "collapsed": false
   },
   "outputs": [],
   "source": [
    "with open('newyork_data.json') as json_data:\n",
    "    newyork_data = json.load(json_data)"
   ]
  },
  {
   "cell_type": "markdown",
   "metadata": {},
   "source": [
    "Let's take a quick look at the data."
   ]
  },
  {
   "cell_type": "markdown",
   "metadata": {},
   "source": [
    "newyork_data"
   ]
  },
  {
   "cell_type": "markdown",
   "metadata": {},
   "source": [
    "Notice how all the relevant data is in the *features* key, which is basically a list of the neighborhoods. So, let's define a new variable that includes this data."
   ]
  },
  {
   "cell_type": "code",
   "execution_count": 5,
   "metadata": {
    "collapsed": true
   },
   "outputs": [],
   "source": [
    "neighborhoods_data = newyork_data['features']"
   ]
  },
  {
   "cell_type": "markdown",
   "metadata": {},
   "source": [
    "Let's take a look at the first item in this list."
   ]
  },
  {
   "cell_type": "code",
   "execution_count": 6,
   "metadata": {
    "collapsed": false
   },
   "outputs": [
    {
     "data": {
      "text/plain": [
       "{'type': 'Feature',\n",
       " 'id': 'nyu_2451_34572.1',\n",
       " 'geometry': {'type': 'Point',\n",
       "  'coordinates': [-73.84720052054902, 40.89470517661]},\n",
       " 'geometry_name': 'geom',\n",
       " 'properties': {'name': 'Wakefield',\n",
       "  'stacked': 1,\n",
       "  'annoline1': 'Wakefield',\n",
       "  'annoline2': None,\n",
       "  'annoline3': None,\n",
       "  'annoangle': 0.0,\n",
       "  'borough': 'Bronx',\n",
       "  'bbox': [-73.84720052054902,\n",
       "   40.89470517661,\n",
       "   -73.84720052054902,\n",
       "   40.89470517661]}}"
      ]
     },
     "execution_count": 6,
     "metadata": {},
     "output_type": "execute_result"
    }
   ],
   "source": [
    "neighborhoods_data[0]"
   ]
  },
  {
   "cell_type": "markdown",
   "metadata": {},
   "source": [
    "#### Tranform the data into a *pandas* dataframe"
   ]
  },
  {
   "cell_type": "markdown",
   "metadata": {},
   "source": [
    "The next task is essentially transforming this data of nested Python dictionaries into a *pandas* dataframe. So let's start by creating an empty dataframe."
   ]
  },
  {
   "cell_type": "code",
   "execution_count": 7,
   "metadata": {
    "collapsed": true
   },
   "outputs": [],
   "source": [
    "# define the dataframe columns\n",
    "column_names = ['Borough', 'Neighborhood', 'Latitude', 'Longitude'] \n",
    "\n",
    "# instantiate the dataframe\n",
    "neighborhoods = pd.DataFrame(columns=column_names)"
   ]
  },
  {
   "cell_type": "markdown",
   "metadata": {},
   "source": [
    "Take a look at the empty dataframe to confirm that the columns are as intended."
   ]
  },
  {
   "cell_type": "code",
   "execution_count": 8,
   "metadata": {
    "collapsed": false
   },
   "outputs": [
    {
     "data": {
      "text/html": [
       "<div>\n",
       "<style scoped>\n",
       "    .dataframe tbody tr th:only-of-type {\n",
       "        vertical-align: middle;\n",
       "    }\n",
       "\n",
       "    .dataframe tbody tr th {\n",
       "        vertical-align: top;\n",
       "    }\n",
       "\n",
       "    .dataframe thead th {\n",
       "        text-align: right;\n",
       "    }\n",
       "</style>\n",
       "<table border=\"1\" class=\"dataframe\">\n",
       "  <thead>\n",
       "    <tr style=\"text-align: right;\">\n",
       "      <th></th>\n",
       "      <th>Borough</th>\n",
       "      <th>Neighborhood</th>\n",
       "      <th>Latitude</th>\n",
       "      <th>Longitude</th>\n",
       "    </tr>\n",
       "  </thead>\n",
       "  <tbody>\n",
       "  </tbody>\n",
       "</table>\n",
       "</div>"
      ],
      "text/plain": [
       "Empty DataFrame\n",
       "Columns: [Borough, Neighborhood, Latitude, Longitude]\n",
       "Index: []"
      ]
     },
     "execution_count": 8,
     "metadata": {},
     "output_type": "execute_result"
    }
   ],
   "source": [
    "neighborhoods"
   ]
  },
  {
   "cell_type": "markdown",
   "metadata": {},
   "source": [
    "Then let's loop through the data and fill the dataframe one row at a time."
   ]
  },
  {
   "cell_type": "code",
   "execution_count": 9,
   "metadata": {
    "collapsed": false
   },
   "outputs": [],
   "source": [
    "for data in neighborhoods_data:\n",
    "    borough = neighborhood_name = data['properties']['borough'] \n",
    "    neighborhood_name = data['properties']['name']\n",
    "        \n",
    "    neighborhood_latlon = data['geometry']['coordinates']\n",
    "    neighborhood_lat = neighborhood_latlon[1]\n",
    "    neighborhood_lon = neighborhood_latlon[0]\n",
    "    \n",
    "    neighborhoods = neighborhoods.append({'Borough': borough,\n",
    "                                          'Neighborhood': neighborhood_name,\n",
    "                                          'Latitude': neighborhood_lat,\n",
    "                                          'Longitude': neighborhood_lon}, ignore_index=True)"
   ]
  },
  {
   "cell_type": "markdown",
   "metadata": {},
   "source": [
    "Quickly examine the resulting dataframe."
   ]
  },
  {
   "cell_type": "code",
   "execution_count": 10,
   "metadata": {
    "collapsed": false,
    "scrolled": true
   },
   "outputs": [
    {
     "data": {
      "text/html": [
       "<div>\n",
       "<style scoped>\n",
       "    .dataframe tbody tr th:only-of-type {\n",
       "        vertical-align: middle;\n",
       "    }\n",
       "\n",
       "    .dataframe tbody tr th {\n",
       "        vertical-align: top;\n",
       "    }\n",
       "\n",
       "    .dataframe thead th {\n",
       "        text-align: right;\n",
       "    }\n",
       "</style>\n",
       "<table border=\"1\" class=\"dataframe\">\n",
       "  <thead>\n",
       "    <tr style=\"text-align: right;\">\n",
       "      <th></th>\n",
       "      <th>Borough</th>\n",
       "      <th>Neighborhood</th>\n",
       "      <th>Latitude</th>\n",
       "      <th>Longitude</th>\n",
       "    </tr>\n",
       "  </thead>\n",
       "  <tbody>\n",
       "    <tr>\n",
       "      <th>0</th>\n",
       "      <td>Bronx</td>\n",
       "      <td>Wakefield</td>\n",
       "      <td>40.894705</td>\n",
       "      <td>-73.847201</td>\n",
       "    </tr>\n",
       "    <tr>\n",
       "      <th>1</th>\n",
       "      <td>Bronx</td>\n",
       "      <td>Co-op City</td>\n",
       "      <td>40.874294</td>\n",
       "      <td>-73.829939</td>\n",
       "    </tr>\n",
       "    <tr>\n",
       "      <th>2</th>\n",
       "      <td>Bronx</td>\n",
       "      <td>Eastchester</td>\n",
       "      <td>40.887556</td>\n",
       "      <td>-73.827806</td>\n",
       "    </tr>\n",
       "    <tr>\n",
       "      <th>3</th>\n",
       "      <td>Bronx</td>\n",
       "      <td>Fieldston</td>\n",
       "      <td>40.895437</td>\n",
       "      <td>-73.905643</td>\n",
       "    </tr>\n",
       "    <tr>\n",
       "      <th>4</th>\n",
       "      <td>Bronx</td>\n",
       "      <td>Riverdale</td>\n",
       "      <td>40.890834</td>\n",
       "      <td>-73.912585</td>\n",
       "    </tr>\n",
       "  </tbody>\n",
       "</table>\n",
       "</div>"
      ],
      "text/plain": [
       "  Borough Neighborhood   Latitude  Longitude\n",
       "0   Bronx    Wakefield  40.894705 -73.847201\n",
       "1   Bronx   Co-op City  40.874294 -73.829939\n",
       "2   Bronx  Eastchester  40.887556 -73.827806\n",
       "3   Bronx    Fieldston  40.895437 -73.905643\n",
       "4   Bronx    Riverdale  40.890834 -73.912585"
      ]
     },
     "execution_count": 10,
     "metadata": {},
     "output_type": "execute_result"
    }
   ],
   "source": [
    "neighborhoods.head()"
   ]
  },
  {
   "cell_type": "markdown",
   "metadata": {},
   "source": [
    "And make sure that the dataset has all 5 boroughs and 306 neighborhoods."
   ]
  },
  {
   "cell_type": "code",
   "execution_count": 11,
   "metadata": {
    "collapsed": false
   },
   "outputs": [
    {
     "name": "stdout",
     "output_type": "stream",
     "text": [
      "The dataframe has 5 boroughs and 306 neighborhoods.\n"
     ]
    }
   ],
   "source": [
    "print('The dataframe has {} boroughs and {} neighborhoods.'.format(\n",
    "        len(neighborhoods['Borough'].unique()),\n",
    "        neighborhoods.shape[0]\n",
    "    )\n",
    ")"
   ]
  },
  {
   "cell_type": "markdown",
   "metadata": {},
   "source": [
    "#### Use geopy library to get the latitude and longitude values of New York City."
   ]
  },
  {
   "cell_type": "code",
   "execution_count": 12,
   "metadata": {
    "collapsed": false,
    "scrolled": true
   },
   "outputs": [
    {
     "name": "stderr",
     "output_type": "stream",
     "text": [
      "/home/jupyterlab/conda/lib/python3.6/site-packages/geopy/geocoders/osm.py:143: UserWarning: Using Nominatim with the default \"geopy/1.17.0\" `user_agent` is strongly discouraged, as it violates Nominatim's ToS https://operations.osmfoundation.org/policies/nominatim/ and may possibly cause 403 and 429 HTTP errors. Please specify a custom `user_agent` with `Nominatim(user_agent=\"my-application\")` or by overriding the default `user_agent`: `geopy.geocoders.options.default_user_agent = \"my-application\"`. In geopy 2.0 this will become an exception.\n",
      "  UserWarning\n"
     ]
    },
    {
     "name": "stdout",
     "output_type": "stream",
     "text": [
      "The geograpical coordinate of New York City are 40.7308619, -73.9871558.\n"
     ]
    }
   ],
   "source": [
    "address = 'New York City, NY'\n",
    "\n",
    "geolocator = Nominatim()\n",
    "location = geolocator.geocode(address)\n",
    "latitude = location.latitude\n",
    "longitude = location.longitude\n",
    "print('The geograpical coordinate of New York City are {}, {}.'.format(latitude, longitude))"
   ]
  },
  {
   "cell_type": "markdown",
   "metadata": {},
   "source": [
    "#### Create a map of New York with neighborhoods superimposed on top."
   ]
  },
  {
   "cell_type": "code",
   "execution_count": 13,
   "metadata": {
    "collapsed": false
   },
   "outputs": [
    {
     "data": {
      "text/html": [
       "<div style=\"width:100%;\"><div style=\"position:relative;width:100%;height:0;padding-bottom:60%;\"><iframe src=\"data:text/html;charset=utf-8;base64,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\" style=\"position:absolute;width:100%;height:100%;left:0;top:0;border:none !important;\" allowfullscreen webkitallowfullscreen mozallowfullscreen></iframe></div></div>"
      ],
      "text/plain": [
       "<folium.folium.Map at 0x7f566d0744a8>"
      ]
     },
     "execution_count": 13,
     "metadata": {},
     "output_type": "execute_result"
    }
   ],
   "source": [
    "# create map of New York using latitude and longitude values\n",
    "map_newyork = folium.Map(location=[latitude, longitude], zoom_start=10)\n",
    "\n",
    "# add markers to map\n",
    "for lat, lng, borough, neighborhood in zip(neighborhoods['Latitude'], neighborhoods['Longitude'], neighborhoods['Borough'], neighborhoods['Neighborhood']):\n",
    "    label = '{}, {}'.format(neighborhood, borough)\n",
    "    label = folium.Popup(label, parse_html=True)\n",
    "    folium.CircleMarker(\n",
    "        [lat, lng],\n",
    "        radius=5,\n",
    "        popup=label,\n",
    "        color='blue',\n",
    "        fill=True,\n",
    "        fill_color='#3186cc',\n",
    "        fill_opacity=0.7,\n",
    "        parse_html=False).add_to(map_newyork)  \n",
    "    \n",
    "map_newyork"
   ]
  },
  {
   "cell_type": "markdown",
   "metadata": {},
   "source": [
    "**Folium** is a great visualization library. Feel free to zoom into the above map, and click on each circle mark to reveal the name of the neighborhood and its respective borough."
   ]
  },
  {
   "cell_type": "markdown",
   "metadata": {},
   "source": [
    "However, for illustration purposes, let's simplify the above map and segment and cluster only the neighborhoods in Manhattan. So let's slice the original dataframe and create a new dataframe of the Manhattan data."
   ]
  },
  {
   "cell_type": "code",
   "execution_count": 14,
   "metadata": {
    "collapsed": false
   },
   "outputs": [
    {
     "data": {
      "text/html": [
       "<div>\n",
       "<style scoped>\n",
       "    .dataframe tbody tr th:only-of-type {\n",
       "        vertical-align: middle;\n",
       "    }\n",
       "\n",
       "    .dataframe tbody tr th {\n",
       "        vertical-align: top;\n",
       "    }\n",
       "\n",
       "    .dataframe thead th {\n",
       "        text-align: right;\n",
       "    }\n",
       "</style>\n",
       "<table border=\"1\" class=\"dataframe\">\n",
       "  <thead>\n",
       "    <tr style=\"text-align: right;\">\n",
       "      <th></th>\n",
       "      <th>Borough</th>\n",
       "      <th>Neighborhood</th>\n",
       "      <th>Latitude</th>\n",
       "      <th>Longitude</th>\n",
       "    </tr>\n",
       "  </thead>\n",
       "  <tbody>\n",
       "    <tr>\n",
       "      <th>0</th>\n",
       "      <td>Manhattan</td>\n",
       "      <td>Marble Hill</td>\n",
       "      <td>40.876551</td>\n",
       "      <td>-73.910660</td>\n",
       "    </tr>\n",
       "    <tr>\n",
       "      <th>1</th>\n",
       "      <td>Manhattan</td>\n",
       "      <td>Chinatown</td>\n",
       "      <td>40.715618</td>\n",
       "      <td>-73.994279</td>\n",
       "    </tr>\n",
       "    <tr>\n",
       "      <th>2</th>\n",
       "      <td>Manhattan</td>\n",
       "      <td>Washington Heights</td>\n",
       "      <td>40.851903</td>\n",
       "      <td>-73.936900</td>\n",
       "    </tr>\n",
       "    <tr>\n",
       "      <th>3</th>\n",
       "      <td>Manhattan</td>\n",
       "      <td>Inwood</td>\n",
       "      <td>40.867684</td>\n",
       "      <td>-73.921210</td>\n",
       "    </tr>\n",
       "    <tr>\n",
       "      <th>4</th>\n",
       "      <td>Manhattan</td>\n",
       "      <td>Hamilton Heights</td>\n",
       "      <td>40.823604</td>\n",
       "      <td>-73.949688</td>\n",
       "    </tr>\n",
       "  </tbody>\n",
       "</table>\n",
       "</div>"
      ],
      "text/plain": [
       "     Borough        Neighborhood   Latitude  Longitude\n",
       "0  Manhattan         Marble Hill  40.876551 -73.910660\n",
       "1  Manhattan           Chinatown  40.715618 -73.994279\n",
       "2  Manhattan  Washington Heights  40.851903 -73.936900\n",
       "3  Manhattan              Inwood  40.867684 -73.921210\n",
       "4  Manhattan    Hamilton Heights  40.823604 -73.949688"
      ]
     },
     "execution_count": 14,
     "metadata": {},
     "output_type": "execute_result"
    }
   ],
   "source": [
    "manhattan_data = neighborhoods[neighborhoods['Borough'] == 'Manhattan'].reset_index(drop=True)\n",
    "manhattan_data.head()"
   ]
  },
  {
   "cell_type": "markdown",
   "metadata": {},
   "source": [
    "Let's get the geographical coordinates of Manhattan."
   ]
  },
  {
   "cell_type": "code",
   "execution_count": 15,
   "metadata": {
    "collapsed": false
   },
   "outputs": [
    {
     "name": "stderr",
     "output_type": "stream",
     "text": [
      "/home/jupyterlab/conda/lib/python3.6/site-packages/geopy/geocoders/osm.py:143: UserWarning: Using Nominatim with the default \"geopy/1.17.0\" `user_agent` is strongly discouraged, as it violates Nominatim's ToS https://operations.osmfoundation.org/policies/nominatim/ and may possibly cause 403 and 429 HTTP errors. Please specify a custom `user_agent` with `Nominatim(user_agent=\"my-application\")` or by overriding the default `user_agent`: `geopy.geocoders.options.default_user_agent = \"my-application\"`. In geopy 2.0 this will become an exception.\n",
      "  UserWarning\n"
     ]
    },
    {
     "name": "stdout",
     "output_type": "stream",
     "text": [
      "The geograpical coordinate of Manhattan are 40.7900869, -73.9598295.\n"
     ]
    }
   ],
   "source": [
    "address = 'Manhattan, NY'\n",
    "\n",
    "geolocator = Nominatim()\n",
    "location = geolocator.geocode(address)\n",
    "latitude = location.latitude\n",
    "longitude = location.longitude\n",
    "print('The geograpical coordinate of Manhattan are {}, {}.'.format(latitude, longitude))"
   ]
  },
  {
   "cell_type": "markdown",
   "metadata": {},
   "source": [
    "As we did with all of New York City, let's visualizat Manhattan the neighborhoods in it."
   ]
  },
  {
   "cell_type": "code",
   "execution_count": 16,
   "metadata": {
    "collapsed": false
   },
   "outputs": [
    {
     "data": {
      "text/html": [
       "<div style=\"width:100%;\"><div style=\"position:relative;width:100%;height:0;padding-bottom:60%;\"><iframe src=\"data:text/html;charset=utf-8;base64,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\" style=\"position:absolute;width:100%;height:100%;left:0;top:0;border:none !important;\" allowfullscreen webkitallowfullscreen mozallowfullscreen></iframe></div></div>"
      ],
      "text/plain": [
       "<folium.folium.Map at 0x7f566c6c17f0>"
      ]
     },
     "execution_count": 16,
     "metadata": {},
     "output_type": "execute_result"
    }
   ],
   "source": [
    "# create map of Manhattan using latitude and longitude values\n",
    "map_manhattan = folium.Map(location=[latitude, longitude], zoom_start=11)\n",
    "\n",
    "# add markers to map\n",
    "for lat, lng, label in zip(manhattan_data['Latitude'], manhattan_data['Longitude'], manhattan_data['Neighborhood']):\n",
    "    label = folium.Popup(label, parse_html=True)\n",
    "    folium.CircleMarker(\n",
    "        [lat, lng],\n",
    "        radius=5,\n",
    "        popup=label,\n",
    "        color='blue',\n",
    "        fill=True,\n",
    "        fill_color='#3186cc',\n",
    "        fill_opacity=0.7,\n",
    "        parse_html=False).add_to(map_manhattan)  \n",
    "    \n",
    "map_manhattan"
   ]
  },
  {
   "cell_type": "markdown",
   "metadata": {},
   "source": [
    "Next, we are going to start utilizing the Foursquare API to explore the neighborhoods and segment them."
   ]
  },
  {
   "cell_type": "markdown",
   "metadata": {},
   "source": [
    "#### Define Foursquare Credentials and Version"
   ]
  },
  {
   "cell_type": "code",
   "execution_count": 17,
   "metadata": {
    "collapsed": false
   },
   "outputs": [
    {
     "name": "stdout",
     "output_type": "stream",
     "text": [
      "Solving environment: done\n",
      "\n",
      "# All requested packages already installed.\n",
      "\n",
      "Solving environment: done\n",
      "\n",
      "# All requested packages already installed.\n",
      "\n",
      "Folium installed\n",
      "Libraries imported.\n",
      "Your credentails:\n",
      "CLIENT_ID: 0ZIFBYAMJAEUM2U5H3NPIKBVJVX5KNESRVD4RYVAUKMLRKKO\n",
      "CLIENT_SECRET:2BW3MHTJGWLL2HJBKCWKCUDEHZGB40UDSYJEJYGOBLJR34LY\n"
     ]
    }
   ],
   "source": [
    "!conda install -c conda-forge geopy --yes \n",
    "from geopy.geocoders import Nominatim # module to convert an address into latitude and longitude values\n",
    "import requests # library to handle requests\n",
    "import pandas as pd # library for data analsysis\n",
    "import numpy as np # library to handle data in a vectorized manner\n",
    "import random # library for random number generation\n",
    "\n",
    "# libraries for displaying images\n",
    "from IPython.display import Image \n",
    "from IPython.core.display import HTML \n",
    "    \n",
    "# tranforming json file into a pandas dataframe library\n",
    "from pandas.io.json import json_normalize\n",
    "\n",
    "!conda install -c conda-forge folium=0.5.0 --yes\n",
    "import folium # plotting library\n",
    "\n",
    "print('Folium installed')\n",
    "print('Libraries imported.')\n",
    "\n",
    "\n",
    "\n",
    "\n",
    "\n",
    "CLIENT_ID = '0ZIFBYAMJAEUM2U5H3NPIKBVJVX5KNESRVD4RYVAUKMLRKKO' # your Foursquare ID\n",
    "CLIENT_SECRET = '2BW3MHTJGWLL2HJBKCWKCUDEHZGB40UDSYJEJYGOBLJR34LY' # your Foursquare Secret\n",
    "VERSION = '20180604'\n",
    "LIMIT = 30\n",
    "print('Your credentails:')\n",
    "print('CLIENT_ID: ' + CLIENT_ID)\n",
    "print('CLIENT_SECRET:' + CLIENT_SECRET)"
   ]
  },
  {
   "cell_type": "markdown",
   "metadata": {},
   "source": [
    "#### Let's explore the first neighborhood in our dataframe."
   ]
  },
  {
   "cell_type": "markdown",
   "metadata": {},
   "source": [
    "Get the neighborhood's name."
   ]
  },
  {
   "cell_type": "code",
   "execution_count": 18,
   "metadata": {
    "collapsed": false
   },
   "outputs": [
    {
     "data": {
      "text/plain": [
       "'Marble Hill'"
      ]
     },
     "execution_count": 18,
     "metadata": {},
     "output_type": "execute_result"
    }
   ],
   "source": [
    "manhattan_data.loc[0, 'Neighborhood']"
   ]
  },
  {
   "cell_type": "markdown",
   "metadata": {},
   "source": [
    "Get the neighborhood's latitude and longitude values."
   ]
  },
  {
   "cell_type": "code",
   "execution_count": 19,
   "metadata": {
    "collapsed": false
   },
   "outputs": [
    {
     "name": "stdout",
     "output_type": "stream",
     "text": [
      "Latitude and longitude values of Marble Hill are 40.87655077879964, -73.91065965862981.\n"
     ]
    }
   ],
   "source": [
    "neighborhood_latitude = manhattan_data.loc[0, 'Latitude'] # neighborhood latitude value\n",
    "neighborhood_longitude = manhattan_data.loc[0, 'Longitude'] # neighborhood longitude value\n",
    "\n",
    "neighborhood_name = manhattan_data.loc[0, 'Neighborhood'] # neighborhood name\n",
    "\n",
    "print('Latitude and longitude values of {} are {}, {}.'.format(neighborhood_name, \n",
    "                                                               neighborhood_latitude, \n",
    "                                                               neighborhood_longitude))"
   ]
  },
  {
   "cell_type": "markdown",
   "metadata": {},
   "source": [
    "#### Now, let's get the top 100 venues that are in Marble Hill within a radius of 500 meters."
   ]
  },
  {
   "cell_type": "markdown",
   "metadata": {},
   "source": [
    "First, let's create the GET request URL. Name your URL **url**."
   ]
  },
  {
   "cell_type": "code",
   "execution_count": 20,
   "metadata": {
    "collapsed": false,
    "scrolled": true
   },
   "outputs": [
    {
     "data": {
      "text/plain": [
       "'https://api.foursquare.com/v2/venues/explore?&client_id=0ZIFBYAMJAEUM2U5H3NPIKBVJVX5KNESRVD4RYVAUKMLRKKO&client_secret=2BW3MHTJGWLL2HJBKCWKCUDEHZGB40UDSYJEJYGOBLJR34LY&v=20180604&ll=40.87655077879964,-73.91065965862981&radius=500&limit=100'"
      ]
     },
     "execution_count": 20,
     "metadata": {},
     "output_type": "execute_result"
    }
   ],
   "source": [
    "LIMIT = 100 # limit of number of venues returned by Foursquare API\n",
    "\n",
    "radius = 500 # define radius\n",
    "# create URL\n",
    "url = 'https://api.foursquare.com/v2/venues/explore?&client_id={}&client_secret={}&v={}&ll={},{}&radius={}&limit={}'.format(\n",
    "    CLIENT_ID, \n",
    "    CLIENT_SECRET, \n",
    "    VERSION, \n",
    "    neighborhood_latitude, \n",
    "    neighborhood_longitude, \n",
    "    radius, \n",
    "    LIMIT)\n",
    "url # display URL\n",
    "\n",
    "\n",
    "\n"
   ]
  },
  {
   "cell_type": "markdown",
   "metadata": {},
   "source": [
    "LIMIT = 100 # limit of number of venues returned by Foursquare API\n",
    "\n",
    "radius = 500 # define radius\n",
    "# create URL\n",
    "url = 'https://api.foursquare.com/v2/venues/explore?&client_id={}&client_secret={}&v={}&ll={},{}&radius={}&limit={}'.format(\n",
    "    CLIENT_ID, \n",
    "    CLIENT_SECRET, \n",
    "    VERSION, \n",
    "    neighborhood_latitude, \n",
    "    neighborhood_longitude, \n",
    "    radius, \n",
    "    LIMIT)\n",
    "url # display URL\n"
   ]
  },
  {
   "cell_type": "markdown",
   "metadata": {},
   "source": [
    "Send the GET request and examine the resutls"
   ]
  },
  {
   "cell_type": "code",
   "execution_count": 21,
   "metadata": {
    "collapsed": false
   },
   "outputs": [
    {
     "data": {
      "text/plain": [
       "{'meta': {'code': 200, 'requestId': '5be02a60db04f50a03a140e4'},\n",
       " 'response': {'suggestedFilters': {'header': 'Tap to show:',\n",
       "   'filters': [{'name': 'Open now', 'key': 'openNow'}]},\n",
       "  'headerLocation': 'Marble Hill',\n",
       "  'headerFullLocation': 'Marble Hill, New York',\n",
       "  'headerLocationGranularity': 'neighborhood',\n",
       "  'totalResults': 22,\n",
       "  'suggestedBounds': {'ne': {'lat': 40.88105078329964,\n",
       "    'lng': -73.90471933917806},\n",
       "   'sw': {'lat': 40.87205077429964, 'lng': -73.91659997808156}},\n",
       "  'groups': [{'type': 'Recommended Places',\n",
       "    'name': 'recommended',\n",
       "    'items': [{'reasons': {'count': 0,\n",
       "       'items': [{'summary': 'This spot is popular',\n",
       "         'type': 'general',\n",
       "         'reasonName': 'globalInteractionReason'}]},\n",
       "      'venue': {'id': '4b4429abf964a52037f225e3',\n",
       "       'name': \"Arturo's\",\n",
       "       'location': {'address': '5198 Broadway',\n",
       "        'crossStreet': 'at 225th St.',\n",
       "        'lat': 40.87441177110231,\n",
       "        'lng': -73.91027100981574,\n",
       "        'labeledLatLngs': [{'label': 'display',\n",
       "          'lat': 40.87441177110231,\n",
       "          'lng': -73.91027100981574}],\n",
       "        'distance': 240,\n",
       "        'postalCode': '10463',\n",
       "        'cc': 'US',\n",
       "        'city': 'New York',\n",
       "        'state': 'NY',\n",
       "        'country': 'United States',\n",
       "        'formattedAddress': ['5198 Broadway (at 225th St.)',\n",
       "         'New York, NY 10463',\n",
       "         'United States']},\n",
       "       'categories': [{'id': '4bf58dd8d48988d1ca941735',\n",
       "         'name': 'Pizza Place',\n",
       "         'pluralName': 'Pizza Places',\n",
       "         'shortName': 'Pizza',\n",
       "         'icon': {'prefix': 'https://ss3.4sqi.net/img/categories_v2/food/pizza_',\n",
       "          'suffix': '.png'},\n",
       "         'primary': True}],\n",
       "       'delivery': {'id': '72548',\n",
       "        'url': 'https://www.seamless.com/menu/arturos-pizza-5189-broadway-ave-new-york/72548?affiliate=1131&utm_source=foursquare-affiliate-network&utm_medium=affiliate&utm_campaign=1131&utm_content=72548',\n",
       "        'provider': {'name': 'seamless',\n",
       "         'icon': {'prefix': 'https://igx.4sqi.net/img/general/cap/',\n",
       "          'sizes': [40, 50],\n",
       "          'name': '/delivery_provider_seamless_20180129.png'}}},\n",
       "       'photos': {'count': 0, 'groups': []}},\n",
       "      'referralId': 'e-0-4b4429abf964a52037f225e3-0'},\n",
       "     {'reasons': {'count': 0,\n",
       "       'items': [{'summary': 'This spot is popular',\n",
       "         'type': 'general',\n",
       "         'reasonName': 'globalInteractionReason'}]},\n",
       "      'venue': {'id': '4baf59e8f964a520a6f93be3',\n",
       "       'name': 'Bikram Yoga',\n",
       "       'location': {'address': '5500 Broadway',\n",
       "        'crossStreet': '230th Street',\n",
       "        'lat': 40.876843690797934,\n",
       "        'lng': -73.90620384419528,\n",
       "        'labeledLatLngs': [{'label': 'display',\n",
       "          'lat': 40.876843690797934,\n",
       "          'lng': -73.90620384419528}],\n",
       "        'distance': 376,\n",
       "        'postalCode': '10463',\n",
       "        'cc': 'US',\n",
       "        'city': 'Bronx',\n",
       "        'state': 'NY',\n",
       "        'country': 'United States',\n",
       "        'formattedAddress': ['5500 Broadway (230th Street)',\n",
       "         'Bronx, NY 10463',\n",
       "         'United States']},\n",
       "       'categories': [{'id': '4bf58dd8d48988d102941735',\n",
       "         'name': 'Yoga Studio',\n",
       "         'pluralName': 'Yoga Studios',\n",
       "         'shortName': 'Yoga Studio',\n",
       "         'icon': {'prefix': 'https://ss3.4sqi.net/img/categories_v2/shops/gym_yogastudio_',\n",
       "          'suffix': '.png'},\n",
       "         'primary': True}],\n",
       "       'photos': {'count': 0, 'groups': []}},\n",
       "      'referralId': 'e-0-4baf59e8f964a520a6f93be3-1'},\n",
       "     {'reasons': {'count': 0,\n",
       "       'items': [{'summary': 'This spot is popular',\n",
       "         'type': 'general',\n",
       "         'reasonName': 'globalInteractionReason'}]},\n",
       "      'venue': {'id': '4b79cc46f964a520c5122fe3',\n",
       "       'name': 'Tibbett Diner',\n",
       "       'location': {'address': '3033 Tibbett Ave',\n",
       "        'crossStreet': 'btwn 230th & 231st',\n",
       "        'lat': 40.8804044222466,\n",
       "        'lng': -73.90893738006402,\n",
       "        'labeledLatLngs': [{'label': 'display',\n",
       "          'lat': 40.8804044222466,\n",
       "          'lng': -73.90893738006402}],\n",
       "        'distance': 452,\n",
       "        'postalCode': '10463',\n",
       "        'cc': 'US',\n",
       "        'city': 'Bronx',\n",
       "        'state': 'NY',\n",
       "        'country': 'United States',\n",
       "        'formattedAddress': ['3033 Tibbett Ave (btwn 230th & 231st)',\n",
       "         'Bronx, NY 10463',\n",
       "         'United States']},\n",
       "       'categories': [{'id': '4bf58dd8d48988d147941735',\n",
       "         'name': 'Diner',\n",
       "         'pluralName': 'Diners',\n",
       "         'shortName': 'Diner',\n",
       "         'icon': {'prefix': 'https://ss3.4sqi.net/img/categories_v2/food/diner_',\n",
       "          'suffix': '.png'},\n",
       "         'primary': True}],\n",
       "       'photos': {'count': 0, 'groups': []}},\n",
       "      'referralId': 'e-0-4b79cc46f964a520c5122fe3-2'},\n",
       "     {'reasons': {'count': 0,\n",
       "       'items': [{'summary': 'This spot is popular',\n",
       "         'type': 'general',\n",
       "         'reasonName': 'globalInteractionReason'}]},\n",
       "      'venue': {'id': '55f81cd2498ee903149fcc64',\n",
       "       'name': 'Starbucks',\n",
       "       'location': {'address': '171 W 230th St',\n",
       "        'crossStreet': 'Kimberly Pl',\n",
       "        'lat': 40.87753134921497,\n",
       "        'lng': -73.90558216359267,\n",
       "        'labeledLatLngs': [{'label': 'display',\n",
       "          'lat': 40.87753134921497,\n",
       "          'lng': -73.90558216359267}],\n",
       "        'distance': 441,\n",
       "        'postalCode': '10463',\n",
       "        'cc': 'US',\n",
       "        'city': 'Bronx',\n",
       "        'state': 'NY',\n",
       "        'country': 'United States',\n",
       "        'formattedAddress': ['171 W 230th St (Kimberly Pl)',\n",
       "         'Bronx, NY 10463',\n",
       "         'United States']},\n",
       "       'categories': [{'id': '4bf58dd8d48988d1e0931735',\n",
       "         'name': 'Coffee Shop',\n",
       "         'pluralName': 'Coffee Shops',\n",
       "         'shortName': 'Coffee Shop',\n",
       "         'icon': {'prefix': 'https://ss3.4sqi.net/img/categories_v2/food/coffeeshop_',\n",
       "          'suffix': '.png'},\n",
       "         'primary': True}],\n",
       "       'photos': {'count': 0, 'groups': []}},\n",
       "      'referralId': 'e-0-55f81cd2498ee903149fcc64-3'},\n",
       "     {'reasons': {'count': 0,\n",
       "       'items': [{'summary': 'This spot is popular',\n",
       "         'type': 'general',\n",
       "         'reasonName': 'globalInteractionReason'}]},\n",
       "      'venue': {'id': '4b5357adf964a520319827e3',\n",
       "       'name': \"Dunkin' Donuts\",\n",
       "       'location': {'address': '5501 Broadway',\n",
       "        'crossStreet': 'W 230th St',\n",
       "        'lat': 40.87699277991182,\n",
       "        'lng': -73.90650658230923,\n",
       "        'labeledLatLngs': [{'label': 'display',\n",
       "          'lat': 40.87699277991182,\n",
       "          'lng': -73.90650658230923}],\n",
       "        'distance': 353,\n",
       "        'postalCode': '10463',\n",
       "        'cc': 'US',\n",
       "        'city': 'Bronx',\n",
       "        'state': 'NY',\n",
       "        'country': 'United States',\n",
       "        'formattedAddress': ['5501 Broadway (W 230th St)',\n",
       "         'Bronx, NY 10463',\n",
       "         'United States']},\n",
       "       'categories': [{'id': '4bf58dd8d48988d148941735',\n",
       "         'name': 'Donut Shop',\n",
       "         'pluralName': 'Donut Shops',\n",
       "         'shortName': 'Donuts',\n",
       "         'icon': {'prefix': 'https://ss3.4sqi.net/img/categories_v2/food/donuts_',\n",
       "          'suffix': '.png'},\n",
       "         'primary': True}],\n",
       "       'photos': {'count': 0, 'groups': []}},\n",
       "      'referralId': 'e-0-4b5357adf964a520319827e3-4'},\n",
       "     {'reasons': {'count': 0,\n",
       "       'items': [{'summary': 'This spot is popular',\n",
       "         'type': 'general',\n",
       "         'reasonName': 'globalInteractionReason'}]},\n",
       "      'venue': {'id': '4b9c9c6af964a520b27236e3',\n",
       "       'name': 'Land & Sea Restaurant',\n",
       "       'location': {'address': '5535 Broadway',\n",
       "        'crossStreet': '231st St',\n",
       "        'lat': 40.87788463309788,\n",
       "        'lng': -73.90587282193539,\n",
       "        'labeledLatLngs': [{'label': 'display',\n",
       "          'lat': 40.87788463309788,\n",
       "          'lng': -73.90587282193539}],\n",
       "        'distance': 429,\n",
       "        'postalCode': '10463',\n",
       "        'cc': 'US',\n",
       "        'city': 'Bronx',\n",
       "        'state': 'NY',\n",
       "        'country': 'United States',\n",
       "        'formattedAddress': ['5535 Broadway (231st St)',\n",
       "         'Bronx, NY 10463',\n",
       "         'United States']},\n",
       "       'categories': [{'id': '4bf58dd8d48988d1ce941735',\n",
       "         'name': 'Seafood Restaurant',\n",
       "         'pluralName': 'Seafood Restaurants',\n",
       "         'shortName': 'Seafood',\n",
       "         'icon': {'prefix': 'https://ss3.4sqi.net/img/categories_v2/food/seafood_',\n",
       "          'suffix': '.png'},\n",
       "         'primary': True}],\n",
       "       'delivery': {'id': '277380',\n",
       "        'url': 'https://www.seamless.com/menu/land--sea-restaurant-5535-broadway-ave-bronx/277380?affiliate=1131&utm_source=foursquare-affiliate-network&utm_medium=affiliate&utm_campaign=1131&utm_content=277380',\n",
       "        'provider': {'name': 'seamless',\n",
       "         'icon': {'prefix': 'https://igx.4sqi.net/img/general/cap/',\n",
       "          'sizes': [40, 50],\n",
       "          'name': '/delivery_provider_seamless_20180129.png'}}},\n",
       "       'photos': {'count': 0, 'groups': []}},\n",
       "      'referralId': 'e-0-4b9c9c6af964a520b27236e3-5'},\n",
       "     {'reasons': {'count': 0,\n",
       "       'items': [{'summary': 'This spot is popular',\n",
       "         'type': 'general',\n",
       "         'reasonName': 'globalInteractionReason'}]},\n",
       "      'venue': {'id': '4a725fa1f964a520f6da1fe3',\n",
       "       'name': 'TCR The Club of Riverdale',\n",
       "       'location': {'address': '2600 Netherland Ave',\n",
       "        'lat': 40.8786283,\n",
       "        'lng': -73.9145678,\n",
       "        'labeledLatLngs': [{'label': 'display',\n",
       "          'lat': 40.8786283,\n",
       "          'lng': -73.9145678}],\n",
       "        'distance': 402,\n",
       "        'postalCode': '10463',\n",
       "        'cc': 'US',\n",
       "        'city': 'Bronx',\n",
       "        'state': 'NY',\n",
       "        'country': 'United States',\n",
       "        'formattedAddress': ['2600 Netherland Ave',\n",
       "         'Bronx, NY 10463',\n",
       "         'United States']},\n",
       "       'categories': [{'id': '4e39a891bd410d7aed40cbc2',\n",
       "         'name': 'Tennis Stadium',\n",
       "         'pluralName': 'Tennis Stadiums',\n",
       "         'shortName': 'Tennis',\n",
       "         'icon': {'prefix': 'https://ss3.4sqi.net/img/categories_v2/arts_entertainment/stadium_tennis_',\n",
       "          'suffix': '.png'},\n",
       "         'primary': True}],\n",
       "       'photos': {'count': 0, 'groups': []},\n",
       "       'venuePage': {'id': '40358759'}},\n",
       "      'referralId': 'e-0-4a725fa1f964a520f6da1fe3-6'},\n",
       "     {'reasons': {'count': 0,\n",
       "       'items': [{'summary': 'This spot is popular',\n",
       "         'type': 'general',\n",
       "         'reasonName': 'globalInteractionReason'}]},\n",
       "      'venue': {'id': '55f751ca498eacc0307d1cfe',\n",
       "       'name': 'Blink Fitness Riverdale',\n",
       "       'location': {'address': '5520 Broadway',\n",
       "        'crossStreet': 'at W 230th St',\n",
       "        'lat': 40.87714687429521,\n",
       "        'lng': -73.90583697267095,\n",
       "        'labeledLatLngs': [{'label': 'display',\n",
       "          'lat': 40.87714687429521,\n",
       "          'lng': -73.90583697267095}],\n",
       "        'distance': 411,\n",
       "        'postalCode': '10463',\n",
       "        'cc': 'US',\n",
       "        'neighborhood': 'Kingsbridge',\n",
       "        'city': 'Bronx',\n",
       "        'state': 'NY',\n",
       "        'country': 'United States',\n",
       "        'formattedAddress': ['5520 Broadway (at W 230th St)',\n",
       "         'Bronx, NY 10463',\n",
       "         'United States']},\n",
       "       'categories': [{'id': '4bf58dd8d48988d176941735',\n",
       "         'name': 'Gym',\n",
       "         'pluralName': 'Gyms',\n",
       "         'shortName': 'Gym',\n",
       "         'icon': {'prefix': 'https://ss3.4sqi.net/img/categories_v2/building/gym_',\n",
       "          'suffix': '.png'},\n",
       "         'primary': True}],\n",
       "       'photos': {'count': 0, 'groups': []}},\n",
       "      'referralId': 'e-0-55f751ca498eacc0307d1cfe-7'},\n",
       "     {'reasons': {'count': 0,\n",
       "       'items': [{'summary': 'This spot is popular',\n",
       "         'type': 'general',\n",
       "         'reasonName': 'globalInteractionReason'}]},\n",
       "      'venue': {'id': '546d31ca498e561c698a0320',\n",
       "       'name': 'T.J. Maxx',\n",
       "       'location': {'lat': 40.87723198343352,\n",
       "        'lng': -73.90504239962168,\n",
       "        'labeledLatLngs': [{'label': 'display',\n",
       "          'lat': 40.87723198343352,\n",
       "          'lng': -73.90504239962168}],\n",
       "        'distance': 478,\n",
       "        'cc': 'US',\n",
       "        'city': 'Bronx',\n",
       "        'state': 'NY',\n",
       "        'country': 'United States',\n",
       "        'formattedAddress': ['Bronx, NY', 'United States']},\n",
       "       'categories': [{'id': '4bf58dd8d48988d1f6941735',\n",
       "         'name': 'Department Store',\n",
       "         'pluralName': 'Department Stores',\n",
       "         'shortName': 'Department Store',\n",
       "         'icon': {'prefix': 'https://ss3.4sqi.net/img/categories_v2/shops/departmentstore_',\n",
       "          'suffix': '.png'},\n",
       "         'primary': True}],\n",
       "       'photos': {'count': 0, 'groups': []}},\n",
       "      'referralId': 'e-0-546d31ca498e561c698a0320-8'},\n",
       "     {'reasons': {'count': 0,\n",
       "       'items': [{'summary': 'This spot is popular',\n",
       "         'type': 'general',\n",
       "         'reasonName': 'globalInteractionReason'}]},\n",
       "      'venue': {'id': '4b9f030af964a520eb0f37e3',\n",
       "       'name': 'GameStop',\n",
       "       'location': {'address': '90 W 225th St Ste A-B',\n",
       "        'crossStreet': 'btw Broadway & Exterior St.',\n",
       "        'lat': 40.874266802124836,\n",
       "        'lng': -73.90934218062803,\n",
       "        'labeledLatLngs': [{'label': 'display',\n",
       "          'lat': 40.874266802124836,\n",
       "          'lng': -73.90934218062803}],\n",
       "        'distance': 277,\n",
       "        'postalCode': '10463',\n",
       "        'cc': 'US',\n",
       "        'city': 'Bronx',\n",
       "        'state': 'NY',\n",
       "        'country': 'United States',\n",
       "        'formattedAddress': ['90 W 225th St Ste A-B (btw Broadway & Exterior St.)',\n",
       "         'Bronx, NY 10463',\n",
       "         'United States']},\n",
       "       'categories': [{'id': '4bf58dd8d48988d10b951735',\n",
       "         'name': 'Video Game Store',\n",
       "         'pluralName': 'Video Game Stores',\n",
       "         'shortName': 'Video Games',\n",
       "         'icon': {'prefix': 'https://ss3.4sqi.net/img/categories_v2/shops/videogames_',\n",
       "          'suffix': '.png'},\n",
       "         'primary': True}],\n",
       "       'photos': {'count': 0, 'groups': []}},\n",
       "      'referralId': 'e-0-4b9f030af964a520eb0f37e3-9'},\n",
       "     {'reasons': {'count': 0,\n",
       "       'items': [{'summary': 'This spot is popular',\n",
       "         'type': 'general',\n",
       "         'reasonName': 'globalInteractionReason'}]},\n",
       "      'venue': {'id': '4b9c9c43f964a520ac7236e3',\n",
       "       'name': 'Lot Less Closeouts',\n",
       "       'location': {'address': '5545 Broadway',\n",
       "        'crossStreet': '231st St',\n",
       "        'lat': 40.878270422202085,\n",
       "        'lng': -73.9052646742604,\n",
       "        'labeledLatLngs': [{'label': 'display',\n",
       "          'lat': 40.878270422202085,\n",
       "          'lng': -73.9052646742604}],\n",
       "        'distance': 492,\n",
       "        'postalCode': '10463',\n",
       "        'cc': 'US',\n",
       "        'city': 'Bronx',\n",
       "        'state': 'NY',\n",
       "        'country': 'United States',\n",
       "        'formattedAddress': ['5545 Broadway (231st St)',\n",
       "         'Bronx, NY 10463',\n",
       "         'United States']},\n",
       "       'categories': [{'id': '52dea92d3cf9994f4e043dbb',\n",
       "         'name': 'Discount Store',\n",
       "         'pluralName': 'Discount Stores',\n",
       "         'shortName': 'Discount Store',\n",
       "         'icon': {'prefix': 'https://ss3.4sqi.net/img/categories_v2/shops/discountstore_',\n",
       "          'suffix': '.png'},\n",
       "         'primary': True}],\n",
       "       'photos': {'count': 0, 'groups': []}},\n",
       "      'referralId': 'e-0-4b9c9c43f964a520ac7236e3-10'},\n",
       "     {'reasons': {'count': 0,\n",
       "       'items': [{'summary': 'This spot is popular',\n",
       "         'type': 'general',\n",
       "         'reasonName': 'globalInteractionReason'}]},\n",
       "      'venue': {'id': '4b88e053f964a5208a1132e3',\n",
       "       'name': 'Rite Aid',\n",
       "       'location': {'address': '5237 Broadway',\n",
       "        'crossStreet': '228th Street',\n",
       "        'lat': 40.875466574434704,\n",
       "        'lng': -73.90890629016033,\n",
       "        'labeledLatLngs': [{'label': 'display',\n",
       "          'lat': 40.875466574434704,\n",
       "          'lng': -73.90890629016033}],\n",
       "        'distance': 190,\n",
       "        'postalCode': '10463',\n",
       "        'cc': 'US',\n",
       "        'city': 'Bronx',\n",
       "        'state': 'NY',\n",
       "        'country': 'United States',\n",
       "        'formattedAddress': ['5237 Broadway (228th Street)',\n",
       "         'Bronx, NY 10463',\n",
       "         'United States']},\n",
       "       'categories': [{'id': '4bf58dd8d48988d10f951735',\n",
       "         'name': 'Pharmacy',\n",
       "         'pluralName': 'Pharmacies',\n",
       "         'shortName': 'Pharmacy',\n",
       "         'icon': {'prefix': 'https://ss3.4sqi.net/img/categories_v2/shops/pharmacy_',\n",
       "          'suffix': '.png'},\n",
       "         'primary': True}],\n",
       "       'photos': {'count': 0, 'groups': []}},\n",
       "      'referralId': 'e-0-4b88e053f964a5208a1132e3-11'},\n",
       "     {'reasons': {'count': 0,\n",
       "       'items': [{'summary': 'This spot is popular',\n",
       "         'type': 'general',\n",
       "         'reasonName': 'globalInteractionReason'}]},\n",
       "      'venue': {'id': '5631194e498e2de074de661c',\n",
       "       'name': 'Vitamin Shoppe',\n",
       "       'location': {'address': '5510 Broadway',\n",
       "        'lat': 40.87716,\n",
       "        'lng': -73.905632,\n",
       "        'labeledLatLngs': [{'label': 'display',\n",
       "          'lat': 40.87716,\n",
       "          'lng': -73.905632}],\n",
       "        'distance': 428,\n",
       "        'postalCode': '10463',\n",
       "        'cc': 'US',\n",
       "        'city': 'Bronx',\n",
       "        'state': 'NY',\n",
       "        'country': 'United States',\n",
       "        'formattedAddress': ['5510 Broadway',\n",
       "         'Bronx, NY 10463',\n",
       "         'United States']},\n",
       "       'categories': [{'id': '5744ccdfe4b0c0459246b4cd',\n",
       "         'name': 'Supplement Shop',\n",
       "         'pluralName': 'Supplement Shops',\n",
       "         'shortName': 'Supplement Shop',\n",
       "         'icon': {'prefix': 'https://ss3.4sqi.net/img/categories_v2/education/lab_',\n",
       "          'suffix': '.png'},\n",
       "         'primary': True}],\n",
       "       'photos': {'count': 0, 'groups': []}},\n",
       "      'referralId': 'e-0-5631194e498e2de074de661c-12'},\n",
       "     {'reasons': {'count': 0,\n",
       "       'items': [{'summary': 'This spot is popular',\n",
       "         'type': 'general',\n",
       "         'reasonName': 'globalInteractionReason'}]},\n",
       "      'venue': {'id': '4c7e760d0b2a9eb0fb73651f',\n",
       "       'name': 'Payless ShoeSource',\n",
       "       'location': {'address': '60 W 225th St',\n",
       "        'lat': 40.87372764344239,\n",
       "        'lng': -73.90848340039689,\n",
       "        'labeledLatLngs': [{'label': 'display',\n",
       "          'lat': 40.87372764344239,\n",
       "          'lng': -73.90848340039689}],\n",
       "        'distance': 363,\n",
       "        'postalCode': '10463',\n",
       "        'cc': 'US',\n",
       "        'city': 'Bronx',\n",
       "        'state': 'NY',\n",
       "        'country': 'United States',\n",
       "        'formattedAddress': ['60 W 225th St',\n",
       "         'Bronx, NY 10463',\n",
       "         'United States']},\n",
       "       'categories': [{'id': '4bf58dd8d48988d107951735',\n",
       "         'name': 'Shoe Store',\n",
       "         'pluralName': 'Shoe Stores',\n",
       "         'shortName': 'Shoes',\n",
       "         'icon': {'prefix': 'https://ss3.4sqi.net/img/categories_v2/shops/apparel_shoestore_',\n",
       "          'suffix': '.png'},\n",
       "         'primary': True}],\n",
       "       'photos': {'count': 0, 'groups': []}},\n",
       "      'referralId': 'e-0-4c7e760d0b2a9eb0fb73651f-13'},\n",
       "     {'reasons': {'count': 0,\n",
       "       'items': [{'summary': 'This spot is popular',\n",
       "         'type': 'general',\n",
       "         'reasonName': 'globalInteractionReason'}]},\n",
       "      'venue': {'id': '4ec68016cc21b428e1d2060a',\n",
       "       'name': 'TD Bank',\n",
       "       'location': {'address': '281 W 230th St',\n",
       "        'lat': 40.8794958,\n",
       "        'lng': -73.9092856,\n",
       "        'labeledLatLngs': [{'label': 'display',\n",
       "          'lat': 40.8794958,\n",
       "          'lng': -73.9092856}],\n",
       "        'distance': 347,\n",
       "        'postalCode': '10463',\n",
       "        'cc': 'US',\n",
       "        'city': 'Bronx',\n",
       "        'state': 'NY',\n",
       "        'country': 'United States',\n",
       "        'formattedAddress': ['281 W 230th St',\n",
       "         'Bronx, NY 10463',\n",
       "         'United States']},\n",
       "       'categories': [{'id': '4bf58dd8d48988d10a951735',\n",
       "         'name': 'Bank',\n",
       "         'pluralName': 'Banks',\n",
       "         'shortName': 'Bank',\n",
       "         'icon': {'prefix': 'https://ss3.4sqi.net/img/categories_v2/shops/financial_',\n",
       "          'suffix': '.png'},\n",
       "         'primary': True}],\n",
       "       'photos': {'count': 0, 'groups': []}},\n",
       "      'referralId': 'e-0-4ec68016cc21b428e1d2060a-14'},\n",
       "     {'reasons': {'count': 0,\n",
       "       'items': [{'summary': 'This spot is popular',\n",
       "         'type': 'general',\n",
       "         'reasonName': 'globalInteractionReason'}]},\n",
       "      'venue': {'id': '56229ff8498e2abb44b6f12b',\n",
       "       'name': 'Five Below',\n",
       "       'location': {'address': '171 W 230th St Fl 2',\n",
       "        'lat': 40.87763977050781,\n",
       "        'lng': -73.90499114990234,\n",
       "        'labeledLatLngs': [{'label': 'display',\n",
       "          'lat': 40.87763977050781,\n",
       "          'lng': -73.90499114990234}],\n",
       "        'distance': 492,\n",
       "        'postalCode': '10463',\n",
       "        'cc': 'US',\n",
       "        'city': 'Bronx',\n",
       "        'state': 'NY',\n",
       "        'country': 'United States',\n",
       "        'formattedAddress': ['171 W 230th St Fl 2',\n",
       "         'Bronx, NY 10463',\n",
       "         'United States']},\n",
       "       'categories': [{'id': '52dea92d3cf9994f4e043dbb',\n",
       "         'name': 'Discount Store',\n",
       "         'pluralName': 'Discount Stores',\n",
       "         'shortName': 'Discount Store',\n",
       "         'icon': {'prefix': 'https://ss3.4sqi.net/img/categories_v2/shops/discountstore_',\n",
       "          'suffix': '.png'},\n",
       "         'primary': True}],\n",
       "       'photos': {'count': 0, 'groups': []}},\n",
       "      'referralId': 'e-0-56229ff8498e2abb44b6f12b-15'},\n",
       "     {'reasons': {'count': 0,\n",
       "       'items': [{'summary': 'This spot is popular',\n",
       "         'type': 'general',\n",
       "         'reasonName': 'globalInteractionReason'}]},\n",
       "      'venue': {'id': '585c205665e7c70a2f1055ea',\n",
       "       'name': 'Boston Market',\n",
       "       'location': {'address': '5520 Broadway',\n",
       "        'lat': 40.87743,\n",
       "        'lng': -73.9054121,\n",
       "        'labeledLatLngs': [{'label': 'display',\n",
       "          'lat': 40.87743,\n",
       "          'lng': -73.9054121}],\n",
       "        'distance': 452,\n",
       "        'postalCode': '10463',\n",
       "        'cc': 'US',\n",
       "        'city': 'Bronx',\n",
       "        'state': 'NY',\n",
       "        'country': 'United States',\n",
       "        'formattedAddress': ['5520 Broadway',\n",
       "         'Bronx, NY 10463',\n",
       "         'United States']},\n",
       "       'categories': [{'id': '52e81612bcbc57f1066b7a00',\n",
       "         'name': 'Comfort Food Restaurant',\n",
       "         'pluralName': 'Comfort Food Restaurants',\n",
       "         'shortName': 'Comfort Food',\n",
       "         'icon': {'prefix': 'https://ss3.4sqi.net/img/categories_v2/food/default_',\n",
       "          'suffix': '.png'},\n",
       "         'primary': True}],\n",
       "       'photos': {'count': 0, 'groups': []}},\n",
       "      'referralId': 'e-0-585c205665e7c70a2f1055ea-16'},\n",
       "     {'reasons': {'count': 0,\n",
       "       'items': [{'summary': 'This spot is popular',\n",
       "         'type': 'general',\n",
       "         'reasonName': 'globalInteractionReason'}]},\n",
       "      'venue': {'id': '4e4e4517bd4101d0d7a67568',\n",
       "       'name': 'Baskin-Robbins',\n",
       "       'location': {'address': '5501 Broadway',\n",
       "        'lat': 40.8769755336728,\n",
       "        'lng': -73.90675193198494,\n",
       "        'labeledLatLngs': [{'label': 'display',\n",
       "          'lat': 40.8769755336728,\n",
       "          'lng': -73.90675193198494}],\n",
       "        'distance': 332,\n",
       "        'postalCode': '10463',\n",
       "        'cc': 'US',\n",
       "        'city': 'Bronx',\n",
       "        'state': 'NY',\n",
       "        'country': 'United States',\n",
       "        'formattedAddress': ['5501 Broadway',\n",
       "         'Bronx, NY 10463',\n",
       "         'United States']},\n",
       "       'categories': [{'id': '4bf58dd8d48988d1c9941735',\n",
       "         'name': 'Ice Cream Shop',\n",
       "         'pluralName': 'Ice Cream Shops',\n",
       "         'shortName': 'Ice Cream',\n",
       "         'icon': {'prefix': 'https://ss3.4sqi.net/img/categories_v2/food/icecream_',\n",
       "          'suffix': '.png'},\n",
       "         'primary': True}],\n",
       "       'photos': {'count': 0, 'groups': []}},\n",
       "      'referralId': 'e-0-4e4e4517bd4101d0d7a67568-17'},\n",
       "     {'reasons': {'count': 0,\n",
       "       'items': [{'summary': 'This spot is popular',\n",
       "         'type': 'general',\n",
       "         'reasonName': 'globalInteractionReason'}]},\n",
       "      'venue': {'id': '4e4ce4debd413c4cc66d05d0',\n",
       "       'name': 'SUBWAY',\n",
       "       'location': {'address': '5549 Broadway',\n",
       "        'lat': 40.87849271667849,\n",
       "        'lng': -73.90538547211088,\n",
       "        'labeledLatLngs': [{'label': 'display',\n",
       "          'lat': 40.87849271667849,\n",
       "          'lng': -73.90538547211088}],\n",
       "        'distance': 493,\n",
       "        'postalCode': '10463',\n",
       "        'cc': 'US',\n",
       "        'city': 'Bronx',\n",
       "        'state': 'NY',\n",
       "        'country': 'United States',\n",
       "        'formattedAddress': ['5549 Broadway',\n",
       "         'Bronx, NY 10463',\n",
       "         'United States']},\n",
       "       'categories': [{'id': '4bf58dd8d48988d1c5941735',\n",
       "         'name': 'Sandwich Place',\n",
       "         'pluralName': 'Sandwich Places',\n",
       "         'shortName': 'Sandwiches',\n",
       "         'icon': {'prefix': 'https://ss3.4sqi.net/img/categories_v2/food/deli_',\n",
       "          'suffix': '.png'},\n",
       "         'primary': True}],\n",
       "       'delivery': {'id': '774886',\n",
       "        'url': 'https://www.seamless.com/menu/subway-5549-broadway-bronx/774886?affiliate=1131&utm_source=foursquare-affiliate-network&utm_medium=affiliate&utm_campaign=1131&utm_content=774886',\n",
       "        'provider': {'name': 'seamless',\n",
       "         'icon': {'prefix': 'https://igx.4sqi.net/img/general/cap/',\n",
       "          'sizes': [40, 50],\n",
       "          'name': '/delivery_provider_seamless_20180129.png'}}},\n",
       "       'photos': {'count': 0, 'groups': []}},\n",
       "      'referralId': 'e-0-4e4ce4debd413c4cc66d05d0-18'},\n",
       "     {'reasons': {'count': 0,\n",
       "       'items': [{'summary': 'This spot is popular',\n",
       "         'type': 'general',\n",
       "         'reasonName': 'globalInteractionReason'}]},\n",
       "      'venue': {'id': '4dfe40df8877333e195b68fc',\n",
       "       'name': 'Parrilla Latina',\n",
       "       'location': {'address': '230th St & Broadway',\n",
       "        'lat': 40.87747294351472,\n",
       "        'lng': -73.90607346968568,\n",
       "        'labeledLatLngs': [{'label': 'display',\n",
       "          'lat': 40.87747294351472,\n",
       "          'lng': -73.90607346968568}],\n",
       "        'distance': 399,\n",
       "        'postalCode': '10463',\n",
       "        'cc': 'US',\n",
       "        'city': 'Bronx',\n",
       "        'state': 'NY',\n",
       "        'country': 'United States',\n",
       "        'formattedAddress': ['230th St & Broadway',\n",
       "         'Bronx, NY 10463',\n",
       "         'United States']},\n",
       "       'categories': [{'id': '4bf58dd8d48988d1cc941735',\n",
       "         'name': 'Steakhouse',\n",
       "         'pluralName': 'Steakhouses',\n",
       "         'shortName': 'Steakhouse',\n",
       "         'icon': {'prefix': 'https://ss3.4sqi.net/img/categories_v2/food/steakhouse_',\n",
       "          'suffix': '.png'},\n",
       "         'primary': True}],\n",
       "       'delivery': {'id': '330981',\n",
       "        'url': 'https://www.seamless.com/menu/parrilla-latina-5523-broadway-bronx/330981?affiliate=1131&utm_source=foursquare-affiliate-network&utm_medium=affiliate&utm_campaign=1131&utm_content=330981',\n",
       "        'provider': {'name': 'seamless',\n",
       "         'icon': {'prefix': 'https://igx.4sqi.net/img/general/cap/',\n",
       "          'sizes': [40, 50],\n",
       "          'name': '/delivery_provider_seamless_20180129.png'}}},\n",
       "       'photos': {'count': 0, 'groups': []}},\n",
       "      'referralId': 'e-0-4dfe40df8877333e195b68fc-19'},\n",
       "     {'reasons': {'count': 0,\n",
       "       'items': [{'summary': 'This spot is popular',\n",
       "         'type': 'general',\n",
       "         'reasonName': 'globalInteractionReason'}]},\n",
       "      'venue': {'id': '4d0a529133d6b60cf4cf9985',\n",
       "       'name': 'Subway',\n",
       "       'location': {'address': '5209 Broadway',\n",
       "        'lat': 40.877720351115315,\n",
       "        'lng': -73.90537973066263,\n",
       "        'labeledLatLngs': [{'label': 'display',\n",
       "          'lat': 40.877720351115315,\n",
       "          'lng': -73.90537973066263}],\n",
       "        'distance': 463,\n",
       "        'postalCode': '10463',\n",
       "        'cc': 'US',\n",
       "        'city': 'Bronx',\n",
       "        'state': 'NY',\n",
       "        'country': 'United States',\n",
       "        'formattedAddress': ['5209 Broadway',\n",
       "         'Bronx, NY 10463',\n",
       "         'United States']},\n",
       "       'categories': [{'id': '4bf58dd8d48988d1c5941735',\n",
       "         'name': 'Sandwich Place',\n",
       "         'pluralName': 'Sandwich Places',\n",
       "         'shortName': 'Sandwiches',\n",
       "         'icon': {'prefix': 'https://ss3.4sqi.net/img/categories_v2/food/deli_',\n",
       "          'suffix': '.png'},\n",
       "         'primary': True}],\n",
       "       'photos': {'count': 0, 'groups': []}},\n",
       "      'referralId': 'e-0-4d0a529133d6b60cf4cf9985-20'},\n",
       "     {'reasons': {'count': 0,\n",
       "       'items': [{'summary': 'This spot is popular',\n",
       "         'type': 'general',\n",
       "         'reasonName': 'globalInteractionReason'}]},\n",
       "      'venue': {'id': '4ed7956b8b81b2bf28adc714',\n",
       "       'name': 'Terrace View Delicatessen',\n",
       "       'location': {'address': '135 Terrace View Ave.',\n",
       "        'lat': 40.87647647652852,\n",
       "        'lng': -73.91274586964578,\n",
       "        'labeledLatLngs': [{'label': 'display',\n",
       "          'lat': 40.87647647652852,\n",
       "          'lng': -73.91274586964578}],\n",
       "        'distance': 175,\n",
       "        'postalCode': '10034',\n",
       "        'cc': 'US',\n",
       "        'city': 'New York',\n",
       "        'state': 'NY',\n",
       "        'country': 'United States',\n",
       "        'formattedAddress': ['135 Terrace View Ave.',\n",
       "         'New York, NY 10034',\n",
       "         'United States']},\n",
       "       'categories': [{'id': '4bf58dd8d48988d146941735',\n",
       "         'name': 'Deli / Bodega',\n",
       "         'pluralName': 'Delis / Bodegas',\n",
       "         'shortName': 'Deli / Bodega',\n",
       "         'icon': {'prefix': 'https://ss3.4sqi.net/img/categories_v2/food/deli_',\n",
       "          'suffix': '.png'},\n",
       "         'primary': True}],\n",
       "       'photos': {'count': 0, 'groups': []}},\n",
       "      'referralId': 'e-0-4ed7956b8b81b2bf28adc714-21'}]}]}}"
      ]
     },
     "execution_count": 21,
     "metadata": {},
     "output_type": "execute_result"
    }
   ],
   "source": [
    "results = requests.get(url).json()\n",
    "results"
   ]
  },
  {
   "cell_type": "markdown",
   "metadata": {},
   "source": [
    "From the Foursquare lab in the previous module, we know that all the information is in the *items* key. Before we proceed, let's borrow the **get_category_type** function from the Foursquare lab."
   ]
  },
  {
   "cell_type": "code",
   "execution_count": 22,
   "metadata": {
    "collapsed": true
   },
   "outputs": [],
   "source": [
    "# function that extracts the category of the venue\n",
    "def get_category_type(row):\n",
    "    try:\n",
    "        categories_list = row['categories']\n",
    "    except:\n",
    "        categories_list = row['venue.categories']\n",
    "        \n",
    "    if len(categories_list) == 0:\n",
    "        return None\n",
    "    else:\n",
    "        return categories_list[0]['name']"
   ]
  },
  {
   "cell_type": "markdown",
   "metadata": {},
   "source": [
    "Now we are ready to clean the json and structure it into a *pandas* dataframe."
   ]
  },
  {
   "cell_type": "code",
   "execution_count": 23,
   "metadata": {
    "collapsed": false
   },
   "outputs": [
    {
     "data": {
      "text/html": [
       "<div>\n",
       "<style scoped>\n",
       "    .dataframe tbody tr th:only-of-type {\n",
       "        vertical-align: middle;\n",
       "    }\n",
       "\n",
       "    .dataframe tbody tr th {\n",
       "        vertical-align: top;\n",
       "    }\n",
       "\n",
       "    .dataframe thead th {\n",
       "        text-align: right;\n",
       "    }\n",
       "</style>\n",
       "<table border=\"1\" class=\"dataframe\">\n",
       "  <thead>\n",
       "    <tr style=\"text-align: right;\">\n",
       "      <th></th>\n",
       "      <th>name</th>\n",
       "      <th>categories</th>\n",
       "      <th>lat</th>\n",
       "      <th>lng</th>\n",
       "    </tr>\n",
       "  </thead>\n",
       "  <tbody>\n",
       "    <tr>\n",
       "      <th>0</th>\n",
       "      <td>Arturo's</td>\n",
       "      <td>Pizza Place</td>\n",
       "      <td>40.874412</td>\n",
       "      <td>-73.910271</td>\n",
       "    </tr>\n",
       "    <tr>\n",
       "      <th>1</th>\n",
       "      <td>Bikram Yoga</td>\n",
       "      <td>Yoga Studio</td>\n",
       "      <td>40.876844</td>\n",
       "      <td>-73.906204</td>\n",
       "    </tr>\n",
       "    <tr>\n",
       "      <th>2</th>\n",
       "      <td>Tibbett Diner</td>\n",
       "      <td>Diner</td>\n",
       "      <td>40.880404</td>\n",
       "      <td>-73.908937</td>\n",
       "    </tr>\n",
       "    <tr>\n",
       "      <th>3</th>\n",
       "      <td>Starbucks</td>\n",
       "      <td>Coffee Shop</td>\n",
       "      <td>40.877531</td>\n",
       "      <td>-73.905582</td>\n",
       "    </tr>\n",
       "    <tr>\n",
       "      <th>4</th>\n",
       "      <td>Dunkin' Donuts</td>\n",
       "      <td>Donut Shop</td>\n",
       "      <td>40.876993</td>\n",
       "      <td>-73.906507</td>\n",
       "    </tr>\n",
       "  </tbody>\n",
       "</table>\n",
       "</div>"
      ],
      "text/plain": [
       "             name   categories        lat        lng\n",
       "0        Arturo's  Pizza Place  40.874412 -73.910271\n",
       "1     Bikram Yoga  Yoga Studio  40.876844 -73.906204\n",
       "2   Tibbett Diner        Diner  40.880404 -73.908937\n",
       "3       Starbucks  Coffee Shop  40.877531 -73.905582\n",
       "4  Dunkin' Donuts   Donut Shop  40.876993 -73.906507"
      ]
     },
     "execution_count": 23,
     "metadata": {},
     "output_type": "execute_result"
    }
   ],
   "source": [
    "\n",
    "\n",
    "\n",
    "venues = results['response']['groups'][0]['items']\n",
    "    \n",
    "nearby_venues = json_normalize(venues) # flatten JSON\n",
    "\n",
    "# filter columns\n",
    "filtered_columns = ['venue.name', 'venue.categories', 'venue.location.lat', 'venue.location.lng']\n",
    "nearby_venues =nearby_venues.loc[:, filtered_columns]\n",
    "\n",
    "# filter the category for each row\n",
    "nearby_venues['venue.categories'] = nearby_venues.apply(get_category_type, axis=1)\n",
    "\n",
    "# clean columns\n",
    "nearby_venues.columns = [col.split(\".\")[-1] for col in nearby_venues.columns]\n",
    "\n",
    "nearby_venues.head()"
   ]
  },
  {
   "cell_type": "markdown",
   "metadata": {},
   "source": [
    "And how many venues were returned by Foursquare?"
   ]
  },
  {
   "cell_type": "code",
   "execution_count": 24,
   "metadata": {
    "collapsed": false
   },
   "outputs": [
    {
     "name": "stdout",
     "output_type": "stream",
     "text": [
      "22 venues were returned by Foursquare.\n"
     ]
    }
   ],
   "source": [
    "print('{} venues were returned by Foursquare.'.format(nearby_venues.shape[0]))"
   ]
  },
  {
   "cell_type": "markdown",
   "metadata": {},
   "source": [
    "<a id='item2'></a>"
   ]
  },
  {
   "cell_type": "markdown",
   "metadata": {},
   "source": [
    "## 2. Explore Neighborhoods in Manhattan"
   ]
  },
  {
   "cell_type": "markdown",
   "metadata": {},
   "source": [
    "#### Let's create a function to repeat the same process to all the neighborhoods in Manhattan"
   ]
  },
  {
   "cell_type": "code",
   "execution_count": 25,
   "metadata": {
    "collapsed": true
   },
   "outputs": [],
   "source": [
    "def getNearbyVenues(names, latitudes, longitudes, radius=500):\n",
    "    \n",
    "    venues_list=[]\n",
    "    for name, lat, lng in zip(names, latitudes, longitudes):\n",
    "        print(name)\n",
    "            \n",
    "        # create the API request URL\n",
    "        url = 'https://api.foursquare.com/v2/venues/explore?&client_id={}&client_secret={}&v={}&ll={},{}&radius={}&limit={}'.format(\n",
    "            CLIENT_ID, \n",
    "            CLIENT_SECRET, \n",
    "            VERSION, \n",
    "            lat, \n",
    "            lng, \n",
    "            radius, \n",
    "            LIMIT)\n",
    "            \n",
    "        # make the GET request\n",
    "        results = requests.get(url).json()[\"response\"]['groups'][0]['items']\n",
    "        \n",
    "        # return only relevant information for each nearby venue\n",
    "        venues_list.append([(\n",
    "            name, \n",
    "            lat, \n",
    "            lng, \n",
    "            v['venue']['name'], \n",
    "            v['venue']['location']['lat'], \n",
    "            v['venue']['location']['lng'],  \n",
    "            v['venue']['categories'][0]['name']) for v in results])\n",
    "\n",
    "    nearby_venues = pd.DataFrame([item for venue_list in venues_list for item in venue_list])\n",
    "    nearby_venues.columns = ['Neighborhood', \n",
    "                  'Neighborhood Latitude', \n",
    "                  'Neighborhood Longitude', \n",
    "                  'Venue', \n",
    "                  'Venue Latitude', \n",
    "                  'Venue Longitude', \n",
    "                  'Venue Category']\n",
    "    \n",
    "    return(nearby_venues)"
   ]
  },
  {
   "cell_type": "markdown",
   "metadata": {},
   "source": [
    "#### Now write the code to run the above function on each neighborhood and create a new dataframe called *manhattan_venues*."
   ]
  },
  {
   "cell_type": "code",
   "execution_count": 26,
   "metadata": {
    "collapsed": false,
    "scrolled": true
   },
   "outputs": [
    {
     "name": "stdout",
     "output_type": "stream",
     "text": [
      "Marble Hill\n",
      "Chinatown\n",
      "Washington Heights\n",
      "Inwood\n",
      "Hamilton Heights\n",
      "Manhattanville\n",
      "Central Harlem\n",
      "East Harlem\n",
      "Upper East Side\n",
      "Yorkville\n",
      "Lenox Hill\n",
      "Roosevelt Island\n",
      "Upper West Side\n",
      "Lincoln Square\n",
      "Clinton\n",
      "Midtown\n",
      "Murray Hill\n",
      "Chelsea\n",
      "Greenwich Village\n",
      "East Village\n",
      "Lower East Side\n",
      "Tribeca\n",
      "Little Italy\n",
      "Soho\n",
      "West Village\n",
      "Manhattan Valley\n",
      "Morningside Heights\n",
      "Gramercy\n",
      "Battery Park City\n",
      "Financial District\n",
      "Carnegie Hill\n",
      "Noho\n",
      "Civic Center\n",
      "Midtown South\n",
      "Sutton Place\n",
      "Turtle Bay\n",
      "Tudor City\n",
      "Stuyvesant Town\n",
      "Flatiron\n",
      "Hudson Yards\n"
     ]
    },
    {
     "data": {
      "text/html": [
       "<div>\n",
       "<style scoped>\n",
       "    .dataframe tbody tr th:only-of-type {\n",
       "        vertical-align: middle;\n",
       "    }\n",
       "\n",
       "    .dataframe tbody tr th {\n",
       "        vertical-align: top;\n",
       "    }\n",
       "\n",
       "    .dataframe thead th {\n",
       "        text-align: right;\n",
       "    }\n",
       "</style>\n",
       "<table border=\"1\" class=\"dataframe\">\n",
       "  <thead>\n",
       "    <tr style=\"text-align: right;\">\n",
       "      <th></th>\n",
       "      <th>Neighborhood</th>\n",
       "      <th>Neighborhood Latitude</th>\n",
       "      <th>Neighborhood Longitude</th>\n",
       "      <th>Venue</th>\n",
       "      <th>Venue Latitude</th>\n",
       "      <th>Venue Longitude</th>\n",
       "      <th>Venue Category</th>\n",
       "    </tr>\n",
       "  </thead>\n",
       "  <tbody>\n",
       "    <tr>\n",
       "      <th>0</th>\n",
       "      <td>Marble Hill</td>\n",
       "      <td>40.876551</td>\n",
       "      <td>-73.91066</td>\n",
       "      <td>Arturo's</td>\n",
       "      <td>40.874412</td>\n",
       "      <td>-73.910271</td>\n",
       "      <td>Pizza Place</td>\n",
       "    </tr>\n",
       "    <tr>\n",
       "      <th>1</th>\n",
       "      <td>Marble Hill</td>\n",
       "      <td>40.876551</td>\n",
       "      <td>-73.91066</td>\n",
       "      <td>Bikram Yoga</td>\n",
       "      <td>40.876844</td>\n",
       "      <td>-73.906204</td>\n",
       "      <td>Yoga Studio</td>\n",
       "    </tr>\n",
       "    <tr>\n",
       "      <th>2</th>\n",
       "      <td>Marble Hill</td>\n",
       "      <td>40.876551</td>\n",
       "      <td>-73.91066</td>\n",
       "      <td>Tibbett Diner</td>\n",
       "      <td>40.880404</td>\n",
       "      <td>-73.908937</td>\n",
       "      <td>Diner</td>\n",
       "    </tr>\n",
       "    <tr>\n",
       "      <th>3</th>\n",
       "      <td>Marble Hill</td>\n",
       "      <td>40.876551</td>\n",
       "      <td>-73.91066</td>\n",
       "      <td>Starbucks</td>\n",
       "      <td>40.877531</td>\n",
       "      <td>-73.905582</td>\n",
       "      <td>Coffee Shop</td>\n",
       "    </tr>\n",
       "    <tr>\n",
       "      <th>4</th>\n",
       "      <td>Marble Hill</td>\n",
       "      <td>40.876551</td>\n",
       "      <td>-73.91066</td>\n",
       "      <td>Dunkin' Donuts</td>\n",
       "      <td>40.876993</td>\n",
       "      <td>-73.906507</td>\n",
       "      <td>Donut Shop</td>\n",
       "    </tr>\n",
       "    <tr>\n",
       "      <th>5</th>\n",
       "      <td>Marble Hill</td>\n",
       "      <td>40.876551</td>\n",
       "      <td>-73.91066</td>\n",
       "      <td>Land &amp; Sea Restaurant</td>\n",
       "      <td>40.877885</td>\n",
       "      <td>-73.905873</td>\n",
       "      <td>Seafood Restaurant</td>\n",
       "    </tr>\n",
       "    <tr>\n",
       "      <th>6</th>\n",
       "      <td>Marble Hill</td>\n",
       "      <td>40.876551</td>\n",
       "      <td>-73.91066</td>\n",
       "      <td>TCR The Club of Riverdale</td>\n",
       "      <td>40.878628</td>\n",
       "      <td>-73.914568</td>\n",
       "      <td>Tennis Stadium</td>\n",
       "    </tr>\n",
       "    <tr>\n",
       "      <th>7</th>\n",
       "      <td>Marble Hill</td>\n",
       "      <td>40.876551</td>\n",
       "      <td>-73.91066</td>\n",
       "      <td>Blink Fitness Riverdale</td>\n",
       "      <td>40.877147</td>\n",
       "      <td>-73.905837</td>\n",
       "      <td>Gym</td>\n",
       "    </tr>\n",
       "    <tr>\n",
       "      <th>8</th>\n",
       "      <td>Marble Hill</td>\n",
       "      <td>40.876551</td>\n",
       "      <td>-73.91066</td>\n",
       "      <td>T.J. Maxx</td>\n",
       "      <td>40.877232</td>\n",
       "      <td>-73.905042</td>\n",
       "      <td>Department Store</td>\n",
       "    </tr>\n",
       "    <tr>\n",
       "      <th>9</th>\n",
       "      <td>Marble Hill</td>\n",
       "      <td>40.876551</td>\n",
       "      <td>-73.91066</td>\n",
       "      <td>GameStop</td>\n",
       "      <td>40.874267</td>\n",
       "      <td>-73.909342</td>\n",
       "      <td>Video Game Store</td>\n",
       "    </tr>\n",
       "    <tr>\n",
       "      <th>10</th>\n",
       "      <td>Marble Hill</td>\n",
       "      <td>40.876551</td>\n",
       "      <td>-73.91066</td>\n",
       "      <td>Lot Less Closeouts</td>\n",
       "      <td>40.878270</td>\n",
       "      <td>-73.905265</td>\n",
       "      <td>Discount Store</td>\n",
       "    </tr>\n",
       "    <tr>\n",
       "      <th>11</th>\n",
       "      <td>Marble Hill</td>\n",
       "      <td>40.876551</td>\n",
       "      <td>-73.91066</td>\n",
       "      <td>Rite Aid</td>\n",
       "      <td>40.875467</td>\n",
       "      <td>-73.908906</td>\n",
       "      <td>Pharmacy</td>\n",
       "    </tr>\n",
       "    <tr>\n",
       "      <th>12</th>\n",
       "      <td>Marble Hill</td>\n",
       "      <td>40.876551</td>\n",
       "      <td>-73.91066</td>\n",
       "      <td>Vitamin Shoppe</td>\n",
       "      <td>40.877160</td>\n",
       "      <td>-73.905632</td>\n",
       "      <td>Supplement Shop</td>\n",
       "    </tr>\n",
       "    <tr>\n",
       "      <th>13</th>\n",
       "      <td>Marble Hill</td>\n",
       "      <td>40.876551</td>\n",
       "      <td>-73.91066</td>\n",
       "      <td>Payless ShoeSource</td>\n",
       "      <td>40.873728</td>\n",
       "      <td>-73.908483</td>\n",
       "      <td>Shoe Store</td>\n",
       "    </tr>\n",
       "    <tr>\n",
       "      <th>14</th>\n",
       "      <td>Marble Hill</td>\n",
       "      <td>40.876551</td>\n",
       "      <td>-73.91066</td>\n",
       "      <td>TD Bank</td>\n",
       "      <td>40.879496</td>\n",
       "      <td>-73.909286</td>\n",
       "      <td>Bank</td>\n",
       "    </tr>\n",
       "    <tr>\n",
       "      <th>15</th>\n",
       "      <td>Marble Hill</td>\n",
       "      <td>40.876551</td>\n",
       "      <td>-73.91066</td>\n",
       "      <td>Five Below</td>\n",
       "      <td>40.877640</td>\n",
       "      <td>-73.904991</td>\n",
       "      <td>Discount Store</td>\n",
       "    </tr>\n",
       "    <tr>\n",
       "      <th>16</th>\n",
       "      <td>Marble Hill</td>\n",
       "      <td>40.876551</td>\n",
       "      <td>-73.91066</td>\n",
       "      <td>Boston Market</td>\n",
       "      <td>40.877430</td>\n",
       "      <td>-73.905412</td>\n",
       "      <td>Comfort Food Restaurant</td>\n",
       "    </tr>\n",
       "    <tr>\n",
       "      <th>17</th>\n",
       "      <td>Marble Hill</td>\n",
       "      <td>40.876551</td>\n",
       "      <td>-73.91066</td>\n",
       "      <td>Baskin-Robbins</td>\n",
       "      <td>40.876976</td>\n",
       "      <td>-73.906752</td>\n",
       "      <td>Ice Cream Shop</td>\n",
       "    </tr>\n",
       "    <tr>\n",
       "      <th>18</th>\n",
       "      <td>Marble Hill</td>\n",
       "      <td>40.876551</td>\n",
       "      <td>-73.91066</td>\n",
       "      <td>SUBWAY</td>\n",
       "      <td>40.878493</td>\n",
       "      <td>-73.905385</td>\n",
       "      <td>Sandwich Place</td>\n",
       "    </tr>\n",
       "    <tr>\n",
       "      <th>19</th>\n",
       "      <td>Marble Hill</td>\n",
       "      <td>40.876551</td>\n",
       "      <td>-73.91066</td>\n",
       "      <td>Parrilla Latina</td>\n",
       "      <td>40.877473</td>\n",
       "      <td>-73.906073</td>\n",
       "      <td>Steakhouse</td>\n",
       "    </tr>\n",
       "  </tbody>\n",
       "</table>\n",
       "</div>"
      ],
      "text/plain": [
       "   Neighborhood  Neighborhood Latitude  Neighborhood Longitude  \\\n",
       "0   Marble Hill              40.876551               -73.91066   \n",
       "1   Marble Hill              40.876551               -73.91066   \n",
       "2   Marble Hill              40.876551               -73.91066   \n",
       "3   Marble Hill              40.876551               -73.91066   \n",
       "4   Marble Hill              40.876551               -73.91066   \n",
       "5   Marble Hill              40.876551               -73.91066   \n",
       "6   Marble Hill              40.876551               -73.91066   \n",
       "7   Marble Hill              40.876551               -73.91066   \n",
       "8   Marble Hill              40.876551               -73.91066   \n",
       "9   Marble Hill              40.876551               -73.91066   \n",
       "10  Marble Hill              40.876551               -73.91066   \n",
       "11  Marble Hill              40.876551               -73.91066   \n",
       "12  Marble Hill              40.876551               -73.91066   \n",
       "13  Marble Hill              40.876551               -73.91066   \n",
       "14  Marble Hill              40.876551               -73.91066   \n",
       "15  Marble Hill              40.876551               -73.91066   \n",
       "16  Marble Hill              40.876551               -73.91066   \n",
       "17  Marble Hill              40.876551               -73.91066   \n",
       "18  Marble Hill              40.876551               -73.91066   \n",
       "19  Marble Hill              40.876551               -73.91066   \n",
       "\n",
       "                        Venue  Venue Latitude  Venue Longitude  \\\n",
       "0                    Arturo's       40.874412       -73.910271   \n",
       "1                 Bikram Yoga       40.876844       -73.906204   \n",
       "2               Tibbett Diner       40.880404       -73.908937   \n",
       "3                   Starbucks       40.877531       -73.905582   \n",
       "4              Dunkin' Donuts       40.876993       -73.906507   \n",
       "5       Land & Sea Restaurant       40.877885       -73.905873   \n",
       "6   TCR The Club of Riverdale       40.878628       -73.914568   \n",
       "7     Blink Fitness Riverdale       40.877147       -73.905837   \n",
       "8                   T.J. Maxx       40.877232       -73.905042   \n",
       "9                    GameStop       40.874267       -73.909342   \n",
       "10         Lot Less Closeouts       40.878270       -73.905265   \n",
       "11                   Rite Aid       40.875467       -73.908906   \n",
       "12             Vitamin Shoppe       40.877160       -73.905632   \n",
       "13         Payless ShoeSource       40.873728       -73.908483   \n",
       "14                    TD Bank       40.879496       -73.909286   \n",
       "15                 Five Below       40.877640       -73.904991   \n",
       "16              Boston Market       40.877430       -73.905412   \n",
       "17             Baskin-Robbins       40.876976       -73.906752   \n",
       "18                     SUBWAY       40.878493       -73.905385   \n",
       "19            Parrilla Latina       40.877473       -73.906073   \n",
       "\n",
       "             Venue Category  \n",
       "0               Pizza Place  \n",
       "1               Yoga Studio  \n",
       "2                     Diner  \n",
       "3               Coffee Shop  \n",
       "4                Donut Shop  \n",
       "5        Seafood Restaurant  \n",
       "6            Tennis Stadium  \n",
       "7                       Gym  \n",
       "8          Department Store  \n",
       "9          Video Game Store  \n",
       "10           Discount Store  \n",
       "11                 Pharmacy  \n",
       "12          Supplement Shop  \n",
       "13               Shoe Store  \n",
       "14                     Bank  \n",
       "15           Discount Store  \n",
       "16  Comfort Food Restaurant  \n",
       "17           Ice Cream Shop  \n",
       "18           Sandwich Place  \n",
       "19               Steakhouse  "
      ]
     },
     "execution_count": 26,
     "metadata": {},
     "output_type": "execute_result"
    }
   ],
   "source": [
    "\n",
    "manhattan_venues = getNearbyVenues(names=manhattan_data['Neighborhood'],\n",
    "                                   latitudes=manhattan_data['Latitude'],\n",
    "                                   longitudes=manhattan_data['Longitude']\n",
    "                                  )\n",
    "\n",
    "\n",
    "manhattan_venues.head (20)\n",
    "\n"
   ]
  },
  {
   "cell_type": "markdown",
   "metadata": {},
   "source": [
    "Double-click __here__ for the solution.\n",
    "<!-- The correct answer is:\n",
    "manhattan_venues = getNearbyVenues(names=manhattan_data['Neighborhood'],\n",
    "                                   latitudes=manhattan_data['Latitude'],\n",
    "                                   longitudes=manhattan_data['Longitude']\n",
    "                                  )\n",
    "--> "
   ]
  },
  {
   "cell_type": "markdown",
   "metadata": {},
   "source": [
    "#### Let's check the size of the resulting dataframe"
   ]
  },
  {
   "cell_type": "code",
   "execution_count": 27,
   "metadata": {
    "collapsed": false
   },
   "outputs": [
    {
     "name": "stdout",
     "output_type": "stream",
     "text": [
      "(3298, 7)\n"
     ]
    },
    {
     "data": {
      "text/html": [
       "<div>\n",
       "<style scoped>\n",
       "    .dataframe tbody tr th:only-of-type {\n",
       "        vertical-align: middle;\n",
       "    }\n",
       "\n",
       "    .dataframe tbody tr th {\n",
       "        vertical-align: top;\n",
       "    }\n",
       "\n",
       "    .dataframe thead th {\n",
       "        text-align: right;\n",
       "    }\n",
       "</style>\n",
       "<table border=\"1\" class=\"dataframe\">\n",
       "  <thead>\n",
       "    <tr style=\"text-align: right;\">\n",
       "      <th></th>\n",
       "      <th>Neighborhood</th>\n",
       "      <th>Neighborhood Latitude</th>\n",
       "      <th>Neighborhood Longitude</th>\n",
       "      <th>Venue</th>\n",
       "      <th>Venue Latitude</th>\n",
       "      <th>Venue Longitude</th>\n",
       "      <th>Venue Category</th>\n",
       "    </tr>\n",
       "  </thead>\n",
       "  <tbody>\n",
       "    <tr>\n",
       "      <th>0</th>\n",
       "      <td>Marble Hill</td>\n",
       "      <td>40.876551</td>\n",
       "      <td>-73.91066</td>\n",
       "      <td>Arturo's</td>\n",
       "      <td>40.874412</td>\n",
       "      <td>-73.910271</td>\n",
       "      <td>Pizza Place</td>\n",
       "    </tr>\n",
       "    <tr>\n",
       "      <th>1</th>\n",
       "      <td>Marble Hill</td>\n",
       "      <td>40.876551</td>\n",
       "      <td>-73.91066</td>\n",
       "      <td>Bikram Yoga</td>\n",
       "      <td>40.876844</td>\n",
       "      <td>-73.906204</td>\n",
       "      <td>Yoga Studio</td>\n",
       "    </tr>\n",
       "    <tr>\n",
       "      <th>2</th>\n",
       "      <td>Marble Hill</td>\n",
       "      <td>40.876551</td>\n",
       "      <td>-73.91066</td>\n",
       "      <td>Tibbett Diner</td>\n",
       "      <td>40.880404</td>\n",
       "      <td>-73.908937</td>\n",
       "      <td>Diner</td>\n",
       "    </tr>\n",
       "    <tr>\n",
       "      <th>3</th>\n",
       "      <td>Marble Hill</td>\n",
       "      <td>40.876551</td>\n",
       "      <td>-73.91066</td>\n",
       "      <td>Starbucks</td>\n",
       "      <td>40.877531</td>\n",
       "      <td>-73.905582</td>\n",
       "      <td>Coffee Shop</td>\n",
       "    </tr>\n",
       "    <tr>\n",
       "      <th>4</th>\n",
       "      <td>Marble Hill</td>\n",
       "      <td>40.876551</td>\n",
       "      <td>-73.91066</td>\n",
       "      <td>Dunkin' Donuts</td>\n",
       "      <td>40.876993</td>\n",
       "      <td>-73.906507</td>\n",
       "      <td>Donut Shop</td>\n",
       "    </tr>\n",
       "  </tbody>\n",
       "</table>\n",
       "</div>"
      ],
      "text/plain": [
       "  Neighborhood  Neighborhood Latitude  Neighborhood Longitude           Venue  \\\n",
       "0  Marble Hill              40.876551               -73.91066        Arturo's   \n",
       "1  Marble Hill              40.876551               -73.91066     Bikram Yoga   \n",
       "2  Marble Hill              40.876551               -73.91066   Tibbett Diner   \n",
       "3  Marble Hill              40.876551               -73.91066       Starbucks   \n",
       "4  Marble Hill              40.876551               -73.91066  Dunkin' Donuts   \n",
       "\n",
       "   Venue Latitude  Venue Longitude Venue Category  \n",
       "0       40.874412       -73.910271    Pizza Place  \n",
       "1       40.876844       -73.906204    Yoga Studio  \n",
       "2       40.880404       -73.908937          Diner  \n",
       "3       40.877531       -73.905582    Coffee Shop  \n",
       "4       40.876993       -73.906507     Donut Shop  "
      ]
     },
     "execution_count": 27,
     "metadata": {},
     "output_type": "execute_result"
    }
   ],
   "source": [
    "print(manhattan_venues.shape)\n",
    "manhattan_venues.head()"
   ]
  },
  {
   "cell_type": "markdown",
   "metadata": {},
   "source": [
    "Let's check how many venues were returned for each neighborhood"
   ]
  },
  {
   "cell_type": "code",
   "execution_count": 28,
   "metadata": {
    "collapsed": false
   },
   "outputs": [
    {
     "data": {
      "text/html": [
       "<div>\n",
       "<style scoped>\n",
       "    .dataframe tbody tr th:only-of-type {\n",
       "        vertical-align: middle;\n",
       "    }\n",
       "\n",
       "    .dataframe tbody tr th {\n",
       "        vertical-align: top;\n",
       "    }\n",
       "\n",
       "    .dataframe thead th {\n",
       "        text-align: right;\n",
       "    }\n",
       "</style>\n",
       "<table border=\"1\" class=\"dataframe\">\n",
       "  <thead>\n",
       "    <tr style=\"text-align: right;\">\n",
       "      <th></th>\n",
       "      <th>Neighborhood Latitude</th>\n",
       "      <th>Neighborhood Longitude</th>\n",
       "      <th>Venue</th>\n",
       "      <th>Venue Latitude</th>\n",
       "      <th>Venue Longitude</th>\n",
       "      <th>Venue Category</th>\n",
       "    </tr>\n",
       "    <tr>\n",
       "      <th>Neighborhood</th>\n",
       "      <th></th>\n",
       "      <th></th>\n",
       "      <th></th>\n",
       "      <th></th>\n",
       "      <th></th>\n",
       "      <th></th>\n",
       "    </tr>\n",
       "  </thead>\n",
       "  <tbody>\n",
       "    <tr>\n",
       "      <th>Battery Park City</th>\n",
       "      <td>94</td>\n",
       "      <td>94</td>\n",
       "      <td>94</td>\n",
       "      <td>94</td>\n",
       "      <td>94</td>\n",
       "      <td>94</td>\n",
       "    </tr>\n",
       "    <tr>\n",
       "      <th>Carnegie Hill</th>\n",
       "      <td>100</td>\n",
       "      <td>100</td>\n",
       "      <td>100</td>\n",
       "      <td>100</td>\n",
       "      <td>100</td>\n",
       "      <td>100</td>\n",
       "    </tr>\n",
       "    <tr>\n",
       "      <th>Central Harlem</th>\n",
       "      <td>46</td>\n",
       "      <td>46</td>\n",
       "      <td>46</td>\n",
       "      <td>46</td>\n",
       "      <td>46</td>\n",
       "      <td>46</td>\n",
       "    </tr>\n",
       "    <tr>\n",
       "      <th>Chelsea</th>\n",
       "      <td>100</td>\n",
       "      <td>100</td>\n",
       "      <td>100</td>\n",
       "      <td>100</td>\n",
       "      <td>100</td>\n",
       "      <td>100</td>\n",
       "    </tr>\n",
       "    <tr>\n",
       "      <th>Chinatown</th>\n",
       "      <td>100</td>\n",
       "      <td>100</td>\n",
       "      <td>100</td>\n",
       "      <td>100</td>\n",
       "      <td>100</td>\n",
       "      <td>100</td>\n",
       "    </tr>\n",
       "    <tr>\n",
       "      <th>Civic Center</th>\n",
       "      <td>100</td>\n",
       "      <td>100</td>\n",
       "      <td>100</td>\n",
       "      <td>100</td>\n",
       "      <td>100</td>\n",
       "      <td>100</td>\n",
       "    </tr>\n",
       "    <tr>\n",
       "      <th>Clinton</th>\n",
       "      <td>100</td>\n",
       "      <td>100</td>\n",
       "      <td>100</td>\n",
       "      <td>100</td>\n",
       "      <td>100</td>\n",
       "      <td>100</td>\n",
       "    </tr>\n",
       "    <tr>\n",
       "      <th>East Harlem</th>\n",
       "      <td>43</td>\n",
       "      <td>43</td>\n",
       "      <td>43</td>\n",
       "      <td>43</td>\n",
       "      <td>43</td>\n",
       "      <td>43</td>\n",
       "    </tr>\n",
       "    <tr>\n",
       "      <th>East Village</th>\n",
       "      <td>100</td>\n",
       "      <td>100</td>\n",
       "      <td>100</td>\n",
       "      <td>100</td>\n",
       "      <td>100</td>\n",
       "      <td>100</td>\n",
       "    </tr>\n",
       "    <tr>\n",
       "      <th>Financial District</th>\n",
       "      <td>100</td>\n",
       "      <td>100</td>\n",
       "      <td>100</td>\n",
       "      <td>100</td>\n",
       "      <td>100</td>\n",
       "      <td>100</td>\n",
       "    </tr>\n",
       "    <tr>\n",
       "      <th>Flatiron</th>\n",
       "      <td>100</td>\n",
       "      <td>100</td>\n",
       "      <td>100</td>\n",
       "      <td>100</td>\n",
       "      <td>100</td>\n",
       "      <td>100</td>\n",
       "    </tr>\n",
       "    <tr>\n",
       "      <th>Gramercy</th>\n",
       "      <td>100</td>\n",
       "      <td>100</td>\n",
       "      <td>100</td>\n",
       "      <td>100</td>\n",
       "      <td>100</td>\n",
       "      <td>100</td>\n",
       "    </tr>\n",
       "    <tr>\n",
       "      <th>Greenwich Village</th>\n",
       "      <td>100</td>\n",
       "      <td>100</td>\n",
       "      <td>100</td>\n",
       "      <td>100</td>\n",
       "      <td>100</td>\n",
       "      <td>100</td>\n",
       "    </tr>\n",
       "    <tr>\n",
       "      <th>Hamilton Heights</th>\n",
       "      <td>61</td>\n",
       "      <td>61</td>\n",
       "      <td>61</td>\n",
       "      <td>61</td>\n",
       "      <td>61</td>\n",
       "      <td>61</td>\n",
       "    </tr>\n",
       "    <tr>\n",
       "      <th>Hudson Yards</th>\n",
       "      <td>59</td>\n",
       "      <td>59</td>\n",
       "      <td>59</td>\n",
       "      <td>59</td>\n",
       "      <td>59</td>\n",
       "      <td>59</td>\n",
       "    </tr>\n",
       "    <tr>\n",
       "      <th>Inwood</th>\n",
       "      <td>57</td>\n",
       "      <td>57</td>\n",
       "      <td>57</td>\n",
       "      <td>57</td>\n",
       "      <td>57</td>\n",
       "      <td>57</td>\n",
       "    </tr>\n",
       "    <tr>\n",
       "      <th>Lenox Hill</th>\n",
       "      <td>100</td>\n",
       "      <td>100</td>\n",
       "      <td>100</td>\n",
       "      <td>100</td>\n",
       "      <td>100</td>\n",
       "      <td>100</td>\n",
       "    </tr>\n",
       "    <tr>\n",
       "      <th>Lincoln Square</th>\n",
       "      <td>100</td>\n",
       "      <td>100</td>\n",
       "      <td>100</td>\n",
       "      <td>100</td>\n",
       "      <td>100</td>\n",
       "      <td>100</td>\n",
       "    </tr>\n",
       "    <tr>\n",
       "      <th>Little Italy</th>\n",
       "      <td>100</td>\n",
       "      <td>100</td>\n",
       "      <td>100</td>\n",
       "      <td>100</td>\n",
       "      <td>100</td>\n",
       "      <td>100</td>\n",
       "    </tr>\n",
       "    <tr>\n",
       "      <th>Lower East Side</th>\n",
       "      <td>62</td>\n",
       "      <td>62</td>\n",
       "      <td>62</td>\n",
       "      <td>62</td>\n",
       "      <td>62</td>\n",
       "      <td>62</td>\n",
       "    </tr>\n",
       "    <tr>\n",
       "      <th>Manhattan Valley</th>\n",
       "      <td>59</td>\n",
       "      <td>59</td>\n",
       "      <td>59</td>\n",
       "      <td>59</td>\n",
       "      <td>59</td>\n",
       "      <td>59</td>\n",
       "    </tr>\n",
       "    <tr>\n",
       "      <th>Manhattanville</th>\n",
       "      <td>40</td>\n",
       "      <td>40</td>\n",
       "      <td>40</td>\n",
       "      <td>40</td>\n",
       "      <td>40</td>\n",
       "      <td>40</td>\n",
       "    </tr>\n",
       "    <tr>\n",
       "      <th>Marble Hill</th>\n",
       "      <td>22</td>\n",
       "      <td>22</td>\n",
       "      <td>22</td>\n",
       "      <td>22</td>\n",
       "      <td>22</td>\n",
       "      <td>22</td>\n",
       "    </tr>\n",
       "    <tr>\n",
       "      <th>Midtown</th>\n",
       "      <td>100</td>\n",
       "      <td>100</td>\n",
       "      <td>100</td>\n",
       "      <td>100</td>\n",
       "      <td>100</td>\n",
       "      <td>100</td>\n",
       "    </tr>\n",
       "    <tr>\n",
       "      <th>Midtown South</th>\n",
       "      <td>100</td>\n",
       "      <td>100</td>\n",
       "      <td>100</td>\n",
       "      <td>100</td>\n",
       "      <td>100</td>\n",
       "      <td>100</td>\n",
       "    </tr>\n",
       "    <tr>\n",
       "      <th>Morningside Heights</th>\n",
       "      <td>44</td>\n",
       "      <td>44</td>\n",
       "      <td>44</td>\n",
       "      <td>44</td>\n",
       "      <td>44</td>\n",
       "      <td>44</td>\n",
       "    </tr>\n",
       "    <tr>\n",
       "      <th>Murray Hill</th>\n",
       "      <td>100</td>\n",
       "      <td>100</td>\n",
       "      <td>100</td>\n",
       "      <td>100</td>\n",
       "      <td>100</td>\n",
       "      <td>100</td>\n",
       "    </tr>\n",
       "    <tr>\n",
       "      <th>Noho</th>\n",
       "      <td>100</td>\n",
       "      <td>100</td>\n",
       "      <td>100</td>\n",
       "      <td>100</td>\n",
       "      <td>100</td>\n",
       "      <td>100</td>\n",
       "    </tr>\n",
       "    <tr>\n",
       "      <th>Roosevelt Island</th>\n",
       "      <td>28</td>\n",
       "      <td>28</td>\n",
       "      <td>28</td>\n",
       "      <td>28</td>\n",
       "      <td>28</td>\n",
       "      <td>28</td>\n",
       "    </tr>\n",
       "    <tr>\n",
       "      <th>Soho</th>\n",
       "      <td>100</td>\n",
       "      <td>100</td>\n",
       "      <td>100</td>\n",
       "      <td>100</td>\n",
       "      <td>100</td>\n",
       "      <td>100</td>\n",
       "    </tr>\n",
       "    <tr>\n",
       "      <th>Stuyvesant Town</th>\n",
       "      <td>18</td>\n",
       "      <td>18</td>\n",
       "      <td>18</td>\n",
       "      <td>18</td>\n",
       "      <td>18</td>\n",
       "      <td>18</td>\n",
       "    </tr>\n",
       "    <tr>\n",
       "      <th>Sutton Place</th>\n",
       "      <td>100</td>\n",
       "      <td>100</td>\n",
       "      <td>100</td>\n",
       "      <td>100</td>\n",
       "      <td>100</td>\n",
       "      <td>100</td>\n",
       "    </tr>\n",
       "    <tr>\n",
       "      <th>Tribeca</th>\n",
       "      <td>100</td>\n",
       "      <td>100</td>\n",
       "      <td>100</td>\n",
       "      <td>100</td>\n",
       "      <td>100</td>\n",
       "      <td>100</td>\n",
       "    </tr>\n",
       "    <tr>\n",
       "      <th>Tudor City</th>\n",
       "      <td>78</td>\n",
       "      <td>78</td>\n",
       "      <td>78</td>\n",
       "      <td>78</td>\n",
       "      <td>78</td>\n",
       "      <td>78</td>\n",
       "    </tr>\n",
       "    <tr>\n",
       "      <th>Turtle Bay</th>\n",
       "      <td>100</td>\n",
       "      <td>100</td>\n",
       "      <td>100</td>\n",
       "      <td>100</td>\n",
       "      <td>100</td>\n",
       "      <td>100</td>\n",
       "    </tr>\n",
       "    <tr>\n",
       "      <th>Upper East Side</th>\n",
       "      <td>100</td>\n",
       "      <td>100</td>\n",
       "      <td>100</td>\n",
       "      <td>100</td>\n",
       "      <td>100</td>\n",
       "      <td>100</td>\n",
       "    </tr>\n",
       "    <tr>\n",
       "      <th>Upper West Side</th>\n",
       "      <td>100</td>\n",
       "      <td>100</td>\n",
       "      <td>100</td>\n",
       "      <td>100</td>\n",
       "      <td>100</td>\n",
       "      <td>100</td>\n",
       "    </tr>\n",
       "    <tr>\n",
       "      <th>Washington Heights</th>\n",
       "      <td>87</td>\n",
       "      <td>87</td>\n",
       "      <td>87</td>\n",
       "      <td>87</td>\n",
       "      <td>87</td>\n",
       "      <td>87</td>\n",
       "    </tr>\n",
       "    <tr>\n",
       "      <th>West Village</th>\n",
       "      <td>100</td>\n",
       "      <td>100</td>\n",
       "      <td>100</td>\n",
       "      <td>100</td>\n",
       "      <td>100</td>\n",
       "      <td>100</td>\n",
       "    </tr>\n",
       "    <tr>\n",
       "      <th>Yorkville</th>\n",
       "      <td>100</td>\n",
       "      <td>100</td>\n",
       "      <td>100</td>\n",
       "      <td>100</td>\n",
       "      <td>100</td>\n",
       "      <td>100</td>\n",
       "    </tr>\n",
       "  </tbody>\n",
       "</table>\n",
       "</div>"
      ],
      "text/plain": [
       "                     Neighborhood Latitude  Neighborhood Longitude  Venue  \\\n",
       "Neighborhood                                                                \n",
       "Battery Park City                       94                      94     94   \n",
       "Carnegie Hill                          100                     100    100   \n",
       "Central Harlem                          46                      46     46   \n",
       "Chelsea                                100                     100    100   \n",
       "Chinatown                              100                     100    100   \n",
       "Civic Center                           100                     100    100   \n",
       "Clinton                                100                     100    100   \n",
       "East Harlem                             43                      43     43   \n",
       "East Village                           100                     100    100   \n",
       "Financial District                     100                     100    100   \n",
       "Flatiron                               100                     100    100   \n",
       "Gramercy                               100                     100    100   \n",
       "Greenwich Village                      100                     100    100   \n",
       "Hamilton Heights                        61                      61     61   \n",
       "Hudson Yards                            59                      59     59   \n",
       "Inwood                                  57                      57     57   \n",
       "Lenox Hill                             100                     100    100   \n",
       "Lincoln Square                         100                     100    100   \n",
       "Little Italy                           100                     100    100   \n",
       "Lower East Side                         62                      62     62   \n",
       "Manhattan Valley                        59                      59     59   \n",
       "Manhattanville                          40                      40     40   \n",
       "Marble Hill                             22                      22     22   \n",
       "Midtown                                100                     100    100   \n",
       "Midtown South                          100                     100    100   \n",
       "Morningside Heights                     44                      44     44   \n",
       "Murray Hill                            100                     100    100   \n",
       "Noho                                   100                     100    100   \n",
       "Roosevelt Island                        28                      28     28   \n",
       "Soho                                   100                     100    100   \n",
       "Stuyvesant Town                         18                      18     18   \n",
       "Sutton Place                           100                     100    100   \n",
       "Tribeca                                100                     100    100   \n",
       "Tudor City                              78                      78     78   \n",
       "Turtle Bay                             100                     100    100   \n",
       "Upper East Side                        100                     100    100   \n",
       "Upper West Side                        100                     100    100   \n",
       "Washington Heights                      87                      87     87   \n",
       "West Village                           100                     100    100   \n",
       "Yorkville                              100                     100    100   \n",
       "\n",
       "                     Venue Latitude  Venue Longitude  Venue Category  \n",
       "Neighborhood                                                          \n",
       "Battery Park City                94               94              94  \n",
       "Carnegie Hill                   100              100             100  \n",
       "Central Harlem                   46               46              46  \n",
       "Chelsea                         100              100             100  \n",
       "Chinatown                       100              100             100  \n",
       "Civic Center                    100              100             100  \n",
       "Clinton                         100              100             100  \n",
       "East Harlem                      43               43              43  \n",
       "East Village                    100              100             100  \n",
       "Financial District              100              100             100  \n",
       "Flatiron                        100              100             100  \n",
       "Gramercy                        100              100             100  \n",
       "Greenwich Village               100              100             100  \n",
       "Hamilton Heights                 61               61              61  \n",
       "Hudson Yards                     59               59              59  \n",
       "Inwood                           57               57              57  \n",
       "Lenox Hill                      100              100             100  \n",
       "Lincoln Square                  100              100             100  \n",
       "Little Italy                    100              100             100  \n",
       "Lower East Side                  62               62              62  \n",
       "Manhattan Valley                 59               59              59  \n",
       "Manhattanville                   40               40              40  \n",
       "Marble Hill                      22               22              22  \n",
       "Midtown                         100              100             100  \n",
       "Midtown South                   100              100             100  \n",
       "Morningside Heights              44               44              44  \n",
       "Murray Hill                     100              100             100  \n",
       "Noho                            100              100             100  \n",
       "Roosevelt Island                 28               28              28  \n",
       "Soho                            100              100             100  \n",
       "Stuyvesant Town                  18               18              18  \n",
       "Sutton Place                    100              100             100  \n",
       "Tribeca                         100              100             100  \n",
       "Tudor City                       78               78              78  \n",
       "Turtle Bay                      100              100             100  \n",
       "Upper East Side                 100              100             100  \n",
       "Upper West Side                 100              100             100  \n",
       "Washington Heights               87               87              87  \n",
       "West Village                    100              100             100  \n",
       "Yorkville                       100              100             100  "
      ]
     },
     "execution_count": 28,
     "metadata": {},
     "output_type": "execute_result"
    }
   ],
   "source": [
    "manhattan_venues.groupby('Neighborhood').count()"
   ]
  },
  {
   "cell_type": "markdown",
   "metadata": {},
   "source": [
    "#### Let's find out how many unique categories can be curated from all the returned venues"
   ]
  },
  {
   "cell_type": "code",
   "execution_count": 29,
   "metadata": {
    "collapsed": false
   },
   "outputs": [
    {
     "name": "stdout",
     "output_type": "stream",
     "text": [
      "There are 329 uniques categories.\n"
     ]
    }
   ],
   "source": [
    "print('There are {} uniques categories.'.format(len(manhattan_venues['Venue Category'].unique())))"
   ]
  },
  {
   "cell_type": "markdown",
   "metadata": {},
   "source": [
    "<a id='item3'></a>"
   ]
  },
  {
   "cell_type": "markdown",
   "metadata": {},
   "source": [
    "## 3. Analyze Each Neighborhood"
   ]
  },
  {
   "cell_type": "code",
   "execution_count": 30,
   "metadata": {
    "collapsed": false
   },
   "outputs": [
    {
     "ename": "AttributeError",
     "evalue": "'DataFrameGroupBy' object has no attribute 'Name'",
     "output_type": "error",
     "traceback": [
      "\u001b[0;31m---------------------------------------------------------------------------\u001b[0m",
      "\u001b[0;31mAttributeError\u001b[0m                            Traceback (most recent call last)",
      "\u001b[0;32m<ipython-input-30-0143f4940747>\u001b[0m in \u001b[0;36m<module>\u001b[0;34m()\u001b[0m\n\u001b[1;32m      9\u001b[0m \u001b[0mmanhattan_onehot\u001b[0m \u001b[0;34m=\u001b[0m \u001b[0mmanhattan_onehot\u001b[0m\u001b[0;34m[\u001b[0m\u001b[0mfixed_columns\u001b[0m\u001b[0;34m]\u001b[0m\u001b[0;34m\u001b[0m\u001b[0m\n\u001b[1;32m     10\u001b[0m \u001b[0;34m\u001b[0m\u001b[0m\n\u001b[0;32m---> 11\u001b[0;31m \u001b[0mmanhattan_onehot\u001b[0m\u001b[0;34m.\u001b[0m\u001b[0mgroupby\u001b[0m\u001b[0;34m(\u001b[0m\u001b[0;34m'Neighborhood'\u001b[0m\u001b[0;34m)\u001b[0m\u001b[0;34m.\u001b[0m\u001b[0mName\u001b[0m\u001b[0;34m.\u001b[0m\u001b[0mapply\u001b[0m\u001b[0;34m(\u001b[0m\u001b[0;32mlambda\u001b[0m \u001b[0mn\u001b[0m\u001b[0;34m:\u001b[0m \u001b[0mn\u001b[0m \u001b[0;34m+\u001b[0m \u001b[0mnp\u001b[0m\u001b[0;34m.\u001b[0m\u001b[0mconcatenate\u001b[0m\u001b[0;34m(\u001b[0m\u001b[0;34m(\u001b[0m\u001b[0;34m[\u001b[0m\u001b[0;34m''\u001b[0m\u001b[0;34m]\u001b[0m\u001b[0;34m,\u001b[0m \u001b[0;34m(\u001b[0m\u001b[0mnp\u001b[0m\u001b[0;34m.\u001b[0m\u001b[0marange\u001b[0m\u001b[0;34m(\u001b[0m\u001b[0mlen\u001b[0m\u001b[0;34m(\u001b[0m\u001b[0mn\u001b[0m\u001b[0;34m)\u001b[0m\u001b[0;34m)\u001b[0m\u001b[0;34m+\u001b[0m\u001b[0;36m1\u001b[0m\u001b[0;34m)\u001b[0m\u001b[0;34m.\u001b[0m\u001b[0mastype\u001b[0m\u001b[0;34m(\u001b[0m\u001b[0mstr\u001b[0m\u001b[0;34m)\u001b[0m\u001b[0;34m[\u001b[0m\u001b[0;36m1\u001b[0m\u001b[0;34m:\u001b[0m\u001b[0;34m]\u001b[0m\u001b[0;34m)\u001b[0m\u001b[0;34m)\u001b[0m\u001b[0;34m)\u001b[0m\u001b[0;34m\u001b[0m\u001b[0m\n\u001b[0m\u001b[1;32m     12\u001b[0m \u001b[0mmanhattan_onehot\u001b[0m\u001b[0;34m.\u001b[0m\u001b[0mhead\u001b[0m\u001b[0;34m(\u001b[0m\u001b[0;34m)\u001b[0m\u001b[0;34m\u001b[0m\u001b[0m\n",
      "\u001b[0;32m~/conda/lib/python3.6/site-packages/pandas/core/groupby/groupby.py\u001b[0m in \u001b[0;36m__getattr__\u001b[0;34m(self, attr)\u001b[0m\n\u001b[1;32m    763\u001b[0m \u001b[0;34m\u001b[0m\u001b[0m\n\u001b[1;32m    764\u001b[0m         raise AttributeError(\"%r object has no attribute %r\" %\n\u001b[0;32m--> 765\u001b[0;31m                              (type(self).__name__, attr))\n\u001b[0m\u001b[1;32m    766\u001b[0m \u001b[0;34m\u001b[0m\u001b[0m\n\u001b[1;32m    767\u001b[0m     @Substitution(klass='GroupBy',\n",
      "\u001b[0;31mAttributeError\u001b[0m: 'DataFrameGroupBy' object has no attribute 'Name'"
     ]
    }
   ],
   "source": [
    "# one hot encoding\n",
    "manhattan_onehot = pd.get_dummies(manhattan_venues[['Venue Category']], prefix=\"\", prefix_sep=\"\")\n",
    "\n",
    "# add neighborhood column back to dataframe\n",
    "manhattan_onehot['Neighborhood'] = manhattan_venues['Neighborhood'] \n",
    "\n",
    "# move neighborhood column to the first column\n",
    "fixed_columns = [manhattan_onehot.columns[-1]] + list(manhattan_onehot.columns[:-1])\n",
    "manhattan_onehot = manhattan_onehot[fixed_columns]\n",
    "\n",
    "manhattan_onehot.groupby('Neighborhood').Name.apply(lambda n: n + np.concatenate(([''], (np.arange(len(n))+1).astype(str)[1:])))\n",
    "manhattan_onehot.head()"
   ]
  },
  {
   "cell_type": "markdown",
   "metadata": {},
   "source": [
    "And let's examine the new dataframe size."
   ]
  },
  {
   "cell_type": "code",
   "execution_count": null,
   "metadata": {
    "collapsed": false
   },
   "outputs": [],
   "source": [
    "manhattan_onehot.shape"
   ]
  },
  {
   "cell_type": "markdown",
   "metadata": {},
   "source": [
    "#### Next, let's group rows by neighborhood and by taking the mean of the frequency of occurrence of each category"
   ]
  },
  {
   "cell_type": "code",
   "execution_count": null,
   "metadata": {
    "collapsed": false
   },
   "outputs": [],
   "source": [
    "manhattan_grouped = manhattan_onehot.groupby('Neighborhood').mean().reset_index()\n",
    "manhattan_grouped"
   ]
  },
  {
   "cell_type": "markdown",
   "metadata": {},
   "source": [
    "#### Let's confirm the new size"
   ]
  },
  {
   "cell_type": "code",
   "execution_count": null,
   "metadata": {
    "collapsed": false
   },
   "outputs": [],
   "source": [
    "manhattan_grouped.shape"
   ]
  },
  {
   "cell_type": "markdown",
   "metadata": {},
   "source": [
    "#### Let's print each neighborhood along with the top 5 most common venues"
   ]
  },
  {
   "cell_type": "code",
   "execution_count": null,
   "metadata": {
    "collapsed": false
   },
   "outputs": [],
   "source": [
    "num_top_venues = 5\n",
    "\n",
    "for hood in manhattan_grouped['Neighborhood']:\n",
    "    print(\"----\"+hood+\"----\")\n",
    "    temp = manhattan_grouped[manhattan_grouped['Neighborhood'] == hood].T.reset_index()\n",
    "    temp.columns = ['venue','freq']\n",
    "    temp = temp.iloc[1:]\n",
    "    temp['freq'] = temp['freq'].astype(float)\n",
    "    temp = temp.round({'freq': 2})\n",
    "    print(temp.sort_values('freq', ascending=False).reset_index(drop=True).head(num_top_venues))\n",
    "    print('\\n')"
   ]
  },
  {
   "cell_type": "markdown",
   "metadata": {},
   "source": [
    "#### Let's put that into a *pandas* dataframe"
   ]
  },
  {
   "cell_type": "markdown",
   "metadata": {},
   "source": [
    "First, let's write a function to sort the venues in descending order."
   ]
  },
  {
   "cell_type": "code",
   "execution_count": null,
   "metadata": {
    "collapsed": true
   },
   "outputs": [],
   "source": [
    "def return_most_common_venues(row, num_top_venues):\n",
    "    row_categories = row.iloc[1:]\n",
    "    row_categories_sorted = row_categories.sort_values(ascending=False)\n",
    "    \n",
    "    return row_categories_sorted.index.values[0:num_top_venues]"
   ]
  },
  {
   "cell_type": "markdown",
   "metadata": {},
   "source": [
    "Now let's create the new dataframe and display the top 10 venues for each neighborhood."
   ]
  },
  {
   "cell_type": "code",
   "execution_count": null,
   "metadata": {
    "collapsed": false
   },
   "outputs": [],
   "source": [
    "num_top_venues = 10\n",
    "\n",
    "indicators = ['st', 'nd', 'rd']\n",
    "\n",
    "# create columns according to number of top venues\n",
    "columns = ['Neighborhood']\n",
    "for ind in np.arange(num_top_venues):\n",
    "    try:\n",
    "        columns.append('{}{} Most Common Venue'.format(ind+1, indicators[ind]))\n",
    "    except:\n",
    "        columns.append('{}th Most Common Venue'.format(ind+1))\n",
    "\n",
    "# create a new dataframe\n",
    "neighborhoods_venues_sorted = pd.DataFrame(columns=columns)\n",
    "neighborhoods_venues_sorted['Neighborhood'] = manhattan_grouped['Neighborhood']\n",
    "\n",
    "for ind in np.arange(manhattan_grouped.shape[0]):\n",
    "    neighborhoods_venues_sorted.iloc[ind, 1:] = return_most_common_venues(manhattan_grouped.iloc[ind, :], num_top_venues)\n",
    "\n",
    "neighborhoods_venues_sorted"
   ]
  },
  {
   "cell_type": "markdown",
   "metadata": {},
   "source": [
    "<a id='item4'></a>"
   ]
  },
  {
   "cell_type": "markdown",
   "metadata": {},
   "source": [
    "## 4. Cluster Neighborhoods"
   ]
  },
  {
   "cell_type": "markdown",
   "metadata": {},
   "source": [
    "Run *k*-means to cluster the neighborhood into 5 clusters."
   ]
  },
  {
   "cell_type": "code",
   "execution_count": null,
   "metadata": {
    "collapsed": false
   },
   "outputs": [],
   "source": [
    "# set number of clusters\n",
    "kclusters = 5\n",
    "\n",
    "manhattan_grouped_clustering = manhattan_grouped.drop('Neighborhood', 1)\n",
    "\n",
    "# run k-means clustering\n",
    "kmeans = KMeans(n_clusters=kclusters, random_state=0).fit(manhattan_grouped_clustering)\n",
    "\n",
    "# check cluster labels generated for each row in the dataframe\n",
    "kmeans.labels_[0:10] "
   ]
  },
  {
   "cell_type": "markdown",
   "metadata": {},
   "source": [
    "Let's create a new dataframe that includes the cluster as well as the top 10 venues for each neighborhood."
   ]
  },
  {
   "cell_type": "code",
   "execution_count": null,
   "metadata": {
    "collapsed": false
   },
   "outputs": [],
   "source": [
    "manhattan_data = neighborhoods[neighborhoods['Borough'] == 'Manhattan'].reset_index(drop=True)\n",
    "\n",
    "manhattan_merged = manhattan_data\n",
    "\n",
    "# add clustering labels\n",
    "manhattan_merged['Cluster Labels'] = kmeans.labels_\n",
    "\n",
    "# merge toronto_grouped with toronto_data to add latitude/longitude for each neighborhood\n",
    "manhattan_merged = manhattan_merged.join(neighborhoods_venues_sorted.set_index('Neighborhood'), on='Neighborhood')\n",
    "\n",
    "manhattan_merged.head() # check the last columns!"
   ]
  },
  {
   "cell_type": "markdown",
   "metadata": {},
   "source": [
    "Finally, let's visualize the resulting clusters"
   ]
  },
  {
   "cell_type": "code",
   "execution_count": null,
   "metadata": {
    "collapsed": false
   },
   "outputs": [],
   "source": [
    "# create map\n",
    "map_clusters = folium.Map(location=[latitude, longitude], zoom_start=11)\n",
    "\n",
    "# set color scheme for the clusters\n",
    "x = np.arange(kclusters)\n",
    "ys = [i+x+(i*x)**2 for i in range(kclusters)]\n",
    "colors_array = cm.rainbow(np.linspace(0, 1, len(ys)))\n",
    "rainbow = [colors.rgb2hex(i) for i in colors_array]\n",
    "\n",
    "# add markers to the map\n",
    "markers_colors = []\n",
    "for lat, lon, poi, cluster in zip(manhattan_merged['Latitude'], manhattan_merged['Longitude'], manhattan_merged['Neighborhood'], manhattan_merged['Cluster Labels']):\n",
    "    label = folium.Popup(str(poi) + ' Cluster ' + str(cluster), parse_html=True)\n",
    "    folium.CircleMarker(\n",
    "        [lat, lon],\n",
    "        radius=5,\n",
    "        popup=label,\n",
    "        color=rainbow[cluster-1],\n",
    "        fill=True,\n",
    "        fill_color=rainbow[cluster-1],\n",
    "        fill_opacity=0.7).add_to(map_clusters)\n",
    "       \n",
    "map_clusters"
   ]
  },
  {
   "cell_type": "markdown",
   "metadata": {},
   "source": [
    "<a id='item5'></a>"
   ]
  },
  {
   "cell_type": "markdown",
   "metadata": {},
   "source": [
    "## 5. Examine Clusters"
   ]
  },
  {
   "cell_type": "markdown",
   "metadata": {},
   "source": [
    "Now, you can examine each cluster and determine the discriminating venue categories that distinguish each cluster. Based on the defining categories, you can then assign a name to each cluster. I will leave this exercise to you."
   ]
  },
  {
   "cell_type": "markdown",
   "metadata": {},
   "source": [
    "#### Cluster 1"
   ]
  },
  {
   "cell_type": "code",
   "execution_count": null,
   "metadata": {
    "collapsed": false
   },
   "outputs": [],
   "source": [
    "manhattan_merged.loc[manhattan_merged['Cluster Labels'] == 0, manhattan_merged.columns[[1] + list(range(5, manhattan_merged.shape[1]))]]"
   ]
  },
  {
   "cell_type": "markdown",
   "metadata": {},
   "source": [
    "#### Cluster 2"
   ]
  },
  {
   "cell_type": "code",
   "execution_count": null,
   "metadata": {
    "collapsed": false
   },
   "outputs": [],
   "source": [
    "manhattan_merged.loc[manhattan_merged['Cluster Labels'] == 1, manhattan_merged.columns[[1] + list(range(5, manhattan_merged.shape[1]))]]"
   ]
  },
  {
   "cell_type": "markdown",
   "metadata": {},
   "source": [
    "#### Cluster 3"
   ]
  },
  {
   "cell_type": "code",
   "execution_count": null,
   "metadata": {
    "collapsed": false
   },
   "outputs": [],
   "source": [
    "manhattan_merged.loc[manhattan_merged['Cluster Labels'] == 2, manhattan_merged.columns[[1] + list(range(5, manhattan_merged.shape[1]))]]"
   ]
  },
  {
   "cell_type": "markdown",
   "metadata": {},
   "source": [
    "#### Cluster 4"
   ]
  },
  {
   "cell_type": "code",
   "execution_count": null,
   "metadata": {
    "collapsed": false
   },
   "outputs": [],
   "source": [
    "manhattan_merged.loc[manhattan_merged['Cluster Labels'] == 3, manhattan_merged.columns[[1] + list(range(5, manhattan_merged.shape[1]))]]"
   ]
  },
  {
   "cell_type": "markdown",
   "metadata": {},
   "source": [
    "#### Cluster 5"
   ]
  },
  {
   "cell_type": "code",
   "execution_count": null,
   "metadata": {
    "collapsed": false
   },
   "outputs": [],
   "source": [
    "manhattan_merged.loc[manhattan_merged['Cluster Labels'] == 4, manhattan_merged.columns[[1] + list(range(5, manhattan_merged.shape[1]))]]"
   ]
  },
  {
   "cell_type": "markdown",
   "metadata": {},
   "source": [
    "### Thank you for completing this lab!\n",
    "\n",
    "This notebook was created by [Alex Aklson](https://www.linkedin.com/in/aklson/). I hope you found this lab interesting and educational. Feel free to contact me if you have any questions!"
   ]
  },
  {
   "cell_type": "markdown",
   "metadata": {},
   "source": [
    "This notebook is part of a course on **Coursera** called *Applied Data Science Capstone*. If you accessed this notebook outside the course, you can take this course online by clicking [here](http://cocl.us/DP0701EN_Coursera_Week3_LAB2)."
   ]
  },
  {
   "cell_type": "markdown",
   "metadata": {},
   "source": [
    "<hr>\n",
    "Copyright &copy; 2018 [Cognitive Class](https://cognitiveclass.ai/?utm_source=bducopyrightlink&utm_medium=dswb&utm_campaign=bdu). This notebook and its source code are released under the terms of the [MIT License](https://bigdatauniversity.com/mit-license/)."
   ]
  },
  {
   "cell_type": "code",
   "execution_count": null,
   "metadata": {},
   "outputs": [],
   "source": []
  },
  {
   "cell_type": "code",
   "execution_count": null,
   "metadata": {},
   "outputs": [],
   "source": []
  },
  {
   "cell_type": "code",
   "execution_count": null,
   "metadata": {},
   "outputs": [],
   "source": []
  },
  {
   "cell_type": "code",
   "execution_count": null,
   "metadata": {},
   "outputs": [],
   "source": []
  },
  {
   "cell_type": "code",
   "execution_count": null,
   "metadata": {},
   "outputs": [],
   "source": []
  }
 ],
 "metadata": {
  "kernelspec": {
   "display_name": "Python 3",
   "language": "python",
   "name": "python3"
  },
  "language_info": {
   "codemirror_mode": {
    "name": "ipython",
    "version": 3
   },
   "file_extension": ".py",
   "mimetype": "text/x-python",
   "name": "python",
   "nbconvert_exporter": "python",
   "pygments_lexer": "ipython3",
   "version": "3.6.5"
  },
  "widgets": {
   "state": {},
   "version": "1.1.2"
  }
 },
 "nbformat": 4,
 "nbformat_minor": 2
}
